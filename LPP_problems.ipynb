{
 "cells": [
  {
   "cell_type": "markdown",
   "metadata": {},
   "source": [
    "### Instalação dos pacotes em Julia"
   ]
  },
  {
   "cell_type": "code",
   "execution_count": null,
   "metadata": {},
   "outputs": [],
   "source": [
    "import Pkg; Pkg.add(\"JuMP\")\n",
    "import Pkg; Pkg.add(\"HiGHS\")\n",
    "import Pkg; Pkg.add(\"GLPK\")\n",
    "import Pkg; Pkg.add(\"Clp\")"
   ]
  },
  {
   "cell_type": "markdown",
   "metadata": {},
   "source": [
    "### Importando às bibliotecas que serão usadas para resolver os problemas de PLI"
   ]
  },
  {
   "cell_type": "code",
   "execution_count": 2,
   "metadata": {},
   "outputs": [],
   "source": [
    "using JuMP\n",
    "import HiGHS\n",
    "import GLPK\n",
    "using Clp"
   ]
  },
  {
   "cell_type": "markdown",
   "metadata": {},
   "source": [
    "## Lista 1"
   ]
  },
  {
   "cell_type": "markdown",
   "metadata": {},
   "source": [
    "### Questão 1"
   ]
  },
  {
   "cell_type": "code",
   "execution_count": 35,
   "metadata": {},
   "outputs": [
    {
     "name": "stdout",
     "output_type": "stream",
     "text": [
      "Valor Objetivo (Custo Mínimo): 1000.0\n",
      "x[1, 1] = 100\n",
      "x[1, 2] = 200\n",
      "x[1, 3] = 0\n",
      "x[2, 1] = 0\n",
      "x[2, 2] = 0\n",
      "x[2, 3] = 300\n"
     ]
    }
   ],
   "source": [
    "#model = Model(HiGHS.Optimizer)\n",
    "model = Model(GLPK.Optimizer)\n",
    "\n",
    "i = 2 # Número de Usinas\n",
    "j = 3 # Número de Clientes\n",
    "\n",
    "weights = [1, 1.5, 3.5, 2, 1, 2]\n",
    "\n",
    "@variable(model, x[1:i, 1:j] >= 0)\n",
    "# As demandas respectivas para o produto são:\n",
    "@constraint(model, x[1,1] + x[2,1]   == 100) #E_1\n",
    "@constraint(model, x[1,2] + x[2,2]  == 200) # E_2\n",
    "@constraint(model, x[1,3] + x[2,3]  == 300) # E_3\n",
    "# Restições de Capacidade\n",
    "@constraint(model, x[1,1] + x[1,2] + x[1,3] <= 400) # U_1\n",
    "@constraint(model, x[2,1] + x[2,2] + x[2,3] <= 300) # U_2\n",
    "\n",
    "# Função Objetivo\n",
    "@objective(model, Min, sum(weights[n] * x[div(n-1,3)+1, mod(n-1,3)+1] for n in 1:length(weights)))\n",
    "\n",
    "optimize!(model)\n",
    "@assert is_solved_and_feasible(model)\n",
    "#solution_summary(model)\n",
    "println(\"Valor Objetivo (Custo Mínimo): \", objective_value(model))\n",
    "\n",
    "for m in 1:i\n",
    "    for n in 1:j\n",
    "        println(\"x[$m, $n] = \", round(Int, value(x[m,n])))\n",
    "    end\n",
    "end"
   ]
  },
  {
   "cell_type": "markdown",
   "metadata": {},
   "source": [
    "Função Objetivo: $x_{1,1} + 1.5x_{1,2} + 3.5x_{1,3} + 2x_{2,1} + x_{2,2} + 2x_{2,3}$"
   ]
  },
  {
   "cell_type": "markdown",
   "metadata": {},
   "source": [
    "Generalizando para todos os casos na forma:\n",
    "\n",
    "$$ \\begin{align} \\min \\; & c^T x \\\\\n",
    "s.t \\; & Ax = b \\\\\n",
    "& Cx \\leq d \\\\\n",
    "& x \\geq 0 \n",
    "\\end{align}$$"
   ]
  },
  {
   "cell_type": "code",
   "execution_count": 74,
   "metadata": {},
   "outputs": [
    {
     "data": {
      "text/plain": [
       "print_var (generic function with 1 method)"
      ]
     },
     "metadata": {},
     "output_type": "display_data"
    }
   ],
   "source": [
    "function LPP_Transporte(i, j, weights, A, C, b, d)\n",
    "    model = Model(GLPK.Optimizer)\n",
    "    p = length(weights)\n",
    "    @variable(model, x[1:i, 1:j] >= 0)\n",
    "    x = reshape(x', p, 1)\n",
    "    for m in 1:length(b)\n",
    "        @constraint(model, (A*x)[m] == b[m])\n",
    "    end\n",
    "    for n in 1:length(d)\n",
    "        @constraint(model, (C*x)[n] <= d[n])\n",
    "    end\n",
    "    @objective(model, Min, sum(weights[k] * x[k] for k in 1:p))\n",
    "    println(\"Função Objetivo: \", objective_function(model))\n",
    "    optimize!(model)\n",
    "    for k in 1:p\n",
    "        #m,n = div(k-1, j) + 1, mod(k-1, j) + 1\n",
    "        println(x[k],\" = \", value(x[k]))\n",
    "    end\n",
    "    println(\"Valor Objetivo (Custo Mínimo): \", objective_value(model))\n",
    "    #print(x)\n",
    "end\n",
    "\n",
    "# Printa o valor das variáveis\n",
    "function print_var(x)\n",
    "    if typeof(x) == Matrix{VariableRef}\n",
    "        for i in 1:size(x,1)\n",
    "            for j in 1:size(x,2)\n",
    "                if value(x[i,j]) - round(value(x[i,j])) < 1e-3\n",
    "                    println(x[i,j], \" = \", round(Int, value(x[i,j])))\n",
    "                else\n",
    "                    println(x[i,j], \" = \", value(x[i,j]))\n",
    "                end\n",
    "            end\n",
    "        end\n",
    "    elseif typeof(x) == Vector{VariableRef}\n",
    "        for i in 1:length(x)\n",
    "            println(x[i],\" = \", value(x[i]))\n",
    "        end\n",
    "    elseif typeof(x) == VariableRef\n",
    "        println(x, \" = \", value(x))\n",
    "    else \n",
    "        println(\"Tipo de variável não suportado\")\n",
    "    end\n",
    "end"
   ]
  },
  {
   "cell_type": "markdown",
   "metadata": {},
   "source": [
    "Exemplificando com o problema anterior..."
   ]
  },
  {
   "cell_type": "code",
   "execution_count": 62,
   "metadata": {},
   "outputs": [
    {
     "name": "stdout",
     "output_type": "stream",
     "text": [
      "Função Objetivo: x[1,1] + 1.5 x[1,2] + 3.5 x[1,3] + 2 x[2,1] + x[2,2] + 2 x[2,3]\n",
      "x[1,1] = 100.0\n",
      "x[1,2] = 200.0\n",
      "x[1,3] = 0.0\n",
      "x[2,1] = 0.0\n",
      "x[2,2] = 0.0\n",
      "x[2,3] = 300.0\n",
      "Valor Objetivo (Custo Mínimo): 1000.0\n"
     ]
    }
   ],
   "source": [
    "A = [1 0 0 1 0 0;\n",
    "0 1 0 0 1 0;\n",
    "0 0 1 0 0 1]\n",
    "b = [100;200;300]\n",
    "\n",
    "C = [1 1 1 0 0 0;\n",
    " 0 0 0 1 1 1]\n",
    "d = [400; 300]\n",
    "\n",
    "weights = [1 1.5 3.5 2 1 2]\n",
    "i = 2\n",
    "j = 3\n",
    "\n",
    "LPP_Transporte(i, j, weights, A, C, b, d)"
   ]
  },
  {
   "cell_type": "markdown",
   "metadata": {},
   "source": [
    "### Questão 2"
   ]
  },
  {
   "cell_type": "markdown",
   "metadata": {},
   "source": [
    "Item 1."
   ]
  },
  {
   "cell_type": "code",
   "execution_count": 96,
   "metadata": {},
   "outputs": [
    {
     "name": "stdout",
     "output_type": "stream",
     "text": [
      "Valor Objetivo (Custo Mínimo): 14.0\n",
      "p[1] = 2\n",
      "p[2] = 0\n"
     ]
    }
   ],
   "source": [
    "model = Model(HiGHS.Optimizer)\n",
    "# Quantidades produzidas pela empresa do produto I e II\n",
    "@variable(model, p[1:i] >= 0)\n",
    "# Função Objetivo\n",
    "@objective(model, Max, 7*p[1] + 9*p[2])\n",
    "# Restrição de Recurso\n",
    "@constraint(model, p[1] + p[2] <= 8)\n",
    "@constraint(model, 2*p[1] + 3*p[2] <= 4)\n",
    "@constraint(model, p[2] <= 19)\n",
    "\n",
    "set_silent(model)\n",
    "optimize!(model)\n",
    "@assert is_solved_and_feasible(model)\n",
    "#solution_summary(model)\n",
    "println(\"Valor Objetivo (Custo Mínimo): \", objective_value(model))\n",
    "\n",
    "for m in 1:2\n",
    "    println(\"p[$m] = \", round(Int, value(p[m])))\n",
    "end"
   ]
  },
  {
   "cell_type": "markdown",
   "metadata": {},
   "source": [
    "Item 2."
   ]
  },
  {
   "cell_type": "code",
   "execution_count": 101,
   "metadata": {},
   "outputs": [
    {
     "name": "stdout",
     "output_type": "stream",
     "text": [
      "Valor Objetivo (Custo Mínimo): 39.888888888888886\n",
      "p[1] = 1\n",
      "p[2] = 0\n",
      "p[3] = 8\n"
     ]
    }
   ],
   "source": [
    "model = Model(HiGHS.Optimizer)\n",
    "# Preços de 1 KG de NO3, KCL, PO4\n",
    "@variable(model, x[1:j] >= 0)\n",
    "# Função Objetivo\n",
    "@objective(model, Min, 9*x[1] + 19*x[2] + 4*x[3])\n",
    "# Restrição de Lucro\n",
    "@constraint(model, 9*x[1] + 2*x[2] >= 7)\n",
    "@constraint(model, x[1] + 3*x[2] + x[3] >= 9)\n",
    "\n",
    "set_silent(model)\n",
    "optimize!(model)\n",
    "@assert is_solved_and_feasible(model)\n",
    "#solution_summary(model)\n",
    "println(\"Valor Objetivo (Custo Mínimo): \", objective_value(model))\n",
    "\n",
    "for m in 1:3\n",
    "    println(\"p[$m] = \", round(Int, value(x[m])))\n",
    "end"
   ]
  },
  {
   "cell_type": "markdown",
   "metadata": {},
   "source": [
    "### Questão 3. [Transporte] \n",
    "\n",
    "Um modelo de carro é montado em 3 usinas situadas nas cidades \\(V1\\), \\(V2\\) e \\(V3\\). O motor destes modelos é fornecido por duas outras usinas situadas nas cidades \\(U1\\) e \\(U2\\). As usinas de montagem precisam de pelo menos 5, 4 e 3 motores, respectivamente. Cada usina pode fornecer no máximo 6 motores. A direção da empresa quer minimizar o custo de transporte dos motores entre os dois sítios de fábrica e os três sítios de montagem. Os custos unitários (por motor transportado) para todos os itinerários possíveis são:\n",
    "\n",
    "\n",
    "\\begin{array}{|c|c|c|c|}\n",
    "\\hline\n",
    " & \\text{V1} & \\text{V2} & \\text{V3} \\\\\n",
    "\\hline\n",
    "\\text{U1} & 38 & 27 & 48 \\\\\n",
    "\\hline\n",
    "\\text{U2} & 37 & 58 & 45 \\\\\n",
    "\\hline\n",
    "\\end{array}\n",
    "\n",
    "Como minimizar o custo total de transporte respeitando a oferta e a demanda?\n",
    "\n"
   ]
  },
  {
   "cell_type": "code",
   "execution_count": 3,
   "metadata": {},
   "outputs": [
    {
     "name": "stdout",
     "output_type": "stream",
     "text": [
      "Min 38 x[1,1] + 27 x[1,2] + 48 x[1,3] + 37 x[2,1] + 58 x[2,2] + 45 x[2,3]\n",
      "Subject to\n",
      " x[1,1] + x[2,1] >= 5\n",
      " x[1,2] + x[2,2] >= 4\n",
      " x[1,3] + x[2,3] >= 3\n",
      " x[1,1] + x[1,2] + x[1,3] <= 6\n",
      " x[2,1] + x[2,2] + x[2,3] <= 6\n",
      " x[1,1] >= 0\n",
      " x[2,1] >= 0\n",
      " x[1,2] >= 0\n",
      " x[2,2] >= 0\n",
      " x[1,3] >= 0\n",
      " x[2,3] >= 0\n",
      "\n",
      "Solução Ótima:\n",
      "x[1, 1] = 2.0\n",
      "x[1, 2] = 4.0\n",
      "x[1, 3] = 0.0\n",
      "x[2, 1] = 3.0\n",
      "x[2, 2] = 0.0\n",
      "x[2, 3] = 3.0\n",
      "Custo Total de Transporte: 430.0\n"
     ]
    }
   ],
   "source": [
    "# Define os valores de oferta e demanda\n",
    "oferta = [6, 6]\n",
    "demanda = [5, 4, 3]\n",
    "\n",
    "# Define os custos de transporte\n",
    "custos = [38 27 48;\n",
    "          37 58 45]\n",
    "\n",
    "# Cria um modelo JuMP\n",
    "modelo = Model(GLPK.Optimizer)\n",
    "\n",
    "# Define as variáveis de decisão\n",
    "@variable(modelo, x[1:2, 1:3] >= 0)\n",
    "\n",
    "# Define as restrições de oferta\n",
    "for i in 1:2\n",
    "    @constraint(modelo, sum(x[i, j] for j in 1:3) <= oferta[i])\n",
    "end\n",
    "\n",
    "# Define as restrições de demanda\n",
    "for j in 1:3\n",
    "    @constraint(modelo, sum(x[i, j] for i in 1:2) >= demanda[j])\n",
    "end\n",
    "\n",
    "# Define a função objetivo para minimizar o custo total de transporte\n",
    "@objective(modelo, Min, sum(custos[i, j] * x[i, j] for i in 1:2, j in 1:3))\n",
    "\n",
    "# Resolve o problema de otimização\n",
    "optimize!(modelo)\n",
    "\n",
    "# Verifica se o problema é resolvido de forma ótima\n",
    "@assert termination_status(modelo) == MOI.OPTIMAL\n",
    "\n",
    "println(modelo)\n",
    "\n",
    "println(\"Solução Ótima:\")\n",
    "for i in 1:2\n",
    "    for j in 1:3\n",
    "        println(\"x[$i, $j] = \", value(x[i, j]))\n",
    "    end\n",
    "end\n",
    "\n",
    "println(\"Custo Total de Transporte: \", objective_value(modelo))"
   ]
  },
  {
   "cell_type": "markdown",
   "metadata": {},
   "source": [
    "### Questão 4"
   ]
  },
  {
   "cell_type": "code",
   "execution_count": 42,
   "metadata": {},
   "outputs": [],
   "source": []
  },
  {
   "cell_type": "markdown",
   "metadata": {},
   "source": [
    "### Questão 5"
   ]
  },
  {
   "cell_type": "code",
   "execution_count": 43,
   "metadata": {},
   "outputs": [],
   "source": []
  },
  {
   "cell_type": "markdown",
   "metadata": {},
   "source": [
    "### Questão 6"
   ]
  },
  {
   "cell_type": "code",
   "execution_count": 75,
   "metadata": {},
   "outputs": [
    {
     "data": {
      "text/latex": [
       "$ 2.5 Q_{1,1} - 0.5 Q_{2,1} + 1.5 Q_{3,1} + 0.5 Q_{4,1} + 1.5 Q_{1,2} - 1.5 Q_{2,2} + 0.5 Q_{3,2} - 0.5 Q_{4,2} + 0.5 Q_{1,3} - 2.5 Q_{2,3} - 0.5 Q_{3,3} - 1.5 Q_{4,3} $"
      ],
      "text/plain": [
       "2.5 Q[1,1] - 0.5 Q[2,1] + 1.5 Q[3,1] + 0.5 Q[4,1] + 1.5 Q[1,2] - 1.5 Q[2,2] + 0.5 Q[3,2] - 0.5 Q[4,2] + 0.5 Q[1,3] - 2.5 Q[2,3] - 0.5 Q[3,3] - 1.5 Q[4,3]"
      ]
     },
     "metadata": {},
     "output_type": "display_data"
    }
   ],
   "source": [
    "model = Model(HiGHS.Optimizer)\n",
    "\n",
    "i = 4\n",
    "j = 3\n",
    "# Quantidade do tipo i por dia pro Diesel j (1 -> A, 2 -> B, 3 -> C)\n",
    "@variable(model, Q[1:i, 1:j] >= 0)\n",
    "\n",
    "# Restrição da quantidade máxima disposta por dia de cada tipo de petróleo\n",
    "@constraint(model, sum(Q[1,n] for n in 1:j) <= 3000)\n",
    "@constraint(model, sum(Q[2,n] for n in 1:j) <= 2000)\n",
    "@constraint(model, sum(Q[3,n] for n in 1:j) <= 4000)\n",
    "@constraint(model, sum(Q[4,n] for n in 1:j) <= 1000)\n",
    "\n",
    "\n",
    "# Restrições de quantidade de cada tipo de petróleo no Diesel A\n",
    "@constraint(model, Q[1,1] <= 0.3 * sum(Q[m,1] for m in 1:i))\n",
    "@constraint(model, Q[2,1] <= 0.5 * sum(Q[m,1] for m in 1:i))\n",
    "@constraint(model, Q[3,1] <= 0.4 * sum(Q[m,1] for m in 1:i))\n",
    "\n",
    "# Restrições de quantidade de cada tipo de petróleo no Diesel B\n",
    "@constraint(model, Q[1,2] <= 0.5 * sum(Q[m,2] for m in 1:i))\n",
    "@constraint(model, Q[2,2] <= 0.1 * sum(Q[m,2] for m in 1:i))\n",
    "\n",
    "# Restrições de quantidade de cada tipo de petróleo no Diesel C\n",
    "@constraint(model, Q[1,3] <= 0.7 * sum(Q[m,3] for m in 1:i))\n",
    "\n",
    "# Função Objetivo\n",
    "@objective(model, Max, 5.5 * sum(Q[m,1] for m in 1:i) + 4.5 * sum(Q[m,2] for m in 1:i) + 3.5 * sum(Q[m,3] for m in 1:i) - 3*(Q[1,1] + Q[1,2] + Q[1,3]) - 6*(Q[2,1] + Q[2,2] + Q[2,3]) - 4*(Q[3,1] + Q[3,2] + Q[3,3]) - 5*(Q[4,1] + Q[4,2] + Q[4,3]))"
   ]
  },
  {
   "cell_type": "code",
   "execution_count": 76,
   "metadata": {},
   "outputs": [
    {
     "name": "stdout",
     "output_type": "stream",
     "text": [
      "Valor Objetivo (Lucro Máximo): 13000.0Q[1,1] = 3000\n",
      "Q[1,2] = 0\n",
      "Q[1,3] = 0\n",
      "Q[2,1] = 2000\n",
      "Q[2,2] = 0\n",
      "Q[2,3] = 0\n",
      "Q[3,1] = 4000\n",
      "Q[3,2] = 0\n",
      "Q[3,3] = 0\n",
      "Q[4,1] = 1000\n",
      "Q[4,2] = 0\n",
      "Q[4,3] = 0\n"
     ]
    }
   ],
   "source": [
    "set_silent(model)\n",
    "optimize!(model)\n",
    "@assert is_solved_and_feasible(model)\n",
    "print(\"Valor Objetivo (Lucro Máximo): \", objective_value(model))\n",
    "print_var(Q)"
   ]
  },
  {
   "cell_type": "markdown",
   "metadata": {},
   "source": [
    "## Lista 2"
   ]
  },
  {
   "cell_type": "markdown",
   "metadata": {},
   "source": [
    "### Problema da Mochila"
   ]
  },
  {
   "cell_type": "code",
   "execution_count": 77,
   "metadata": {},
   "outputs": [
    {
     "name": "stdout",
     "output_type": "stream",
     "text": [
      "Max 5 x[1] + 3 x[2] + 2 x[3] + 7 x[4] + 4 x[5]\n",
      "Subject to\n",
      " 2 x[1] + 8 x[2] + 4 x[3] + 2 x[4] + 5 x[5] <= 10\n",
      " x[1] binary\n",
      " x[2] binary\n",
      " x[3] binary\n",
      " x[4] binary\n",
      " x[5] binary\n"
     ]
    }
   ],
   "source": [
    "n = 5; # Número de Itens\n",
    "capacity = 10.0; # Capacidade da Mochila\n",
    "profit = [5.0, 3.0, 2.0, 7.0, 4.0]; # Lucro de cada item\n",
    "weight = [2.0, 8.0, 4.0, 2.0, 5.0]; # Peso de cada item\n",
    "\n",
    "#model = Model(GLPK.Optimizer)\n",
    "model = Model(HiGHS.Optimizer)\n",
    "\n",
    "# Variáveis Binárias\n",
    "@variable(model, x[1:n], Bin)\n",
    "# Restrição de Capacidade\n",
    "@constraint(model, sum(weight[i] * x[i] for i in 1:n) <= capacity)\n",
    "# Função Objetivo\n",
    "@objective(model, Max, sum(profit[i] * x[i] for i in 1:n))\n",
    "print(model) # LPP"
   ]
  },
  {
   "cell_type": "code",
   "execution_count": 78,
   "metadata": {},
   "outputs": [
    {
     "name": "stdout",
     "output_type": "stream",
     "text": [
      "Valor Objetivo (Custo Mínimo): 16.0\n",
      "Itens Escolhidos: [1, 4, 5]"
     ]
    }
   ],
   "source": [
    "set_silent(model)\n",
    "optimize!(model)\n",
    "@assert is_solved_and_feasible(model)\n",
    "#solution_summary(model)\n",
    "println(\"Valor Objetivo (Custo Mínimo): \", objective_value(model))\n",
    "print(\"Itens Escolhidos: \", [i for i in 1:n if value(x[i]) == 1])"
   ]
  },
  {
   "cell_type": "markdown",
   "metadata": {},
   "source": [
    "## Prova A1"
   ]
  },
  {
   "cell_type": "markdown",
   "metadata": {},
   "source": [
    "### Questão 1 "
   ]
  },
  {
   "cell_type": "code",
   "execution_count": 79,
   "metadata": {},
   "outputs": [],
   "source": [
    "model = Model(HiGHS.Optimizer)\n",
    "\n",
    "i = 4\n",
    "j = 3\n",
    "\n",
    "# l_i: quantidade de líquido i revendido diretamente\n",
    "@variable(model, l[1:i] >= 0)\n",
    "# x_ij: quantidade de líquido i = 1,2,3,4 (A,B,C,D) usado na produção de j = 1,2,3 (E,F,G)\n",
    "@variable(model, x[1:i, 1:j] >= 0)\n",
    "# p: quantidade de líquido P produzido\n",
    "@variable(model, p >= 0)\n",
    "\n",
    "# make sum of x[m,j] <= 8000 as constraint\n",
    "d = [8000, 4250, 16000, 2000]\n",
    "for m in 1:i\n",
    "    @constraint(model, l[m] + sum(x[m,j] for j in 1:j) <= d[m])\n",
    "end\n",
    "\n",
    "# Para produzir E, j=1\n",
    "@constraint(model, x[1,1] == 0.3 * sum(x[m,1] for m in 1:i)) # A \n",
    "@constraint(model, x[2,1] >= 0.1 * sum(x[m,1] for m in 1:i)) # B\n",
    "@constraint(model, x[3,1] == 0.4 * sum(x[m,1] for m in 1:i)) # C\n",
    "@constraint(model, x[4,1] <= 0.05 * sum(x[m,1] for m in 1:i)) # D\n",
    "\n",
    "# Para produzir F, j=2\n",
    "@constraint(model, x[1,2] == 0.25 * sum(x[m,2] for m in 1:i)) # A\n",
    "@constraint(model, x[2,2] <= 0.2 * sum(x[m,2] for m in 1:i)) # B\n",
    "@constraint(model, x[3,2] == 0.2 * sum(x[m,2] for m in 1:i)) # C\n",
    "@constraint(model, x[4,2] >= 0.1 * sum(x[m,2] for m in 1:i)) # D\n",
    "\n",
    "# Para produzir G, j=3\n",
    "@constraint(model, x[1,3] == 0.2 * sum(x[m,3] for m in 1:i)) # A\n",
    "@constraint(model, x[2,3] >= 0.15 * sum(x[m,3] for m in 1:i)) # B\n",
    "@constraint(model, x[3,3] == 0.4 * sum(x[m,3] for m in 1:i)) # C\n",
    "@constraint(model, x[4,3] <= 0.2 * sum(x[m,3] for m in 1:i)) # D\n",
    "\n",
    "# A produção de líquidos E,F,G deve suprir a obrigação da empresa\n",
    "@constraint(model, sum(x[m,1] for m in 1:i) >= 400)\n",
    "@constraint(model, sum(x[m,2] for m in 1:i) >= 800)\n",
    "@constraint(model, sum(x[m,3] for m in 1:i) >= 200)\n",
    "\n",
    "# O líquido P deve satisfazer as proporções especificadas de líquido E e G\n",
    "@constraint(model, p/3 <= sum(x[m,1] for m in 1:i))\n",
    "@constraint(model, 2*p/3 <= sum(x[m,3] for m in 1:i))\n",
    "\n",
    "# Função Objetivo\n",
    "@objective(model, Max, 6*(sum(l[m] for m in 1:i)) + 11*(sum(x[m,1] for m in 1:i) - p/3) + 15*(sum(x[m,2] for m in 1:i)) + 14*(sum(x[m,3] for m in 1:i) - 2*p/3)) + 22*p - 5.5*(l[1] + sum(x[1,n] for n in 1:j)) - 3.5*(l[2] + sum(x[2,j] for j in 1:j)) - 7.5*(l[3] + sum(x[3,j] for j in 1:j)) - 11.5*(l[4] + sum(x[4,j] for j in 1:j));"
   ]
  },
  {
   "cell_type": "code",
   "execution_count": 86,
   "metadata": {},
   "outputs": [
    {
     "name": "stdout",
     "output_type": "stream",
     "text": [
      "Valor Objetivo (Lucro Máximo): 304500.0\n",
      "x[1,1] = 120\n",
      "x[1,2] = 200\n",
      "x[1,3] = 2845\n",
      "x[2,1] = 120\n",
      "x[2,2] = 0\n",
      "x[2,3] = 4130\n",
      "x[3,1] = 160\n",
      "x[3,2] = 160\n",
      "x[3,3] = 5690\n",
      "x[4,1] = 0\n",
      "x[4,2] = 440\n",
      "x[4,3] = 1560\n",
      "p = 0.0\n",
      "l[1] = 4835.0\n",
      "l[2] = 0.0\n",
      "l[3] = 9990.0\n",
      "l[4] = 0.0\n"
     ]
    }
   ],
   "source": [
    "set_silent(model)\n",
    "optimize!(model)\n",
    "@assert is_solved_and_feasible(model)\n",
    "println(\"Valor Objetivo (Lucro Máximo): \", objective_value(model))\n",
    "print_var(x)\n",
    "print_var(p)\n",
    "print_var(l)"
   ]
  },
  {
   "cell_type": "markdown",
   "metadata": {},
   "source": [
    "### Questão 2"
   ]
  },
  {
   "cell_type": "code",
   "execution_count": 87,
   "metadata": {},
   "outputs": [
    {
     "data": {
      "text/latex": [
       "$ 50 x_{1,1} + 90 x_{1,2} + 80 x_{1,3} + 30 x_{2,2} + 40 x_{2,3} + 60 x_{3,2} + 50 x_{3,3} $"
      ],
      "text/plain": [
       "50 x[1,1] + 90 x[1,2] + 80 x[1,3] + 30 x[2,2] + 40 x[2,3] + 60 x[3,2] + 50 x[3,3]"
      ]
     },
     "metadata": {},
     "output_type": "display_data"
    }
   ],
   "source": [
    "model = Model(HiGHS.Optimizer)\n",
    "\n",
    "i = 3\n",
    "j = 3\n",
    "weights = [50, 90, 80, 0, 30, 40, 0, 60, 50]\n",
    "\n",
    "@variable(model, x[1:i, 1:j] >= 0)\n",
    "# As demandas respectivas para cada categoria devem ser atendidas\n",
    "@constraint(model, x[1,1] == 20) # Iluminação\n",
    "@constraint(model, x[1,2] + x[2,2] + x[3,2] == 10) # Aquecimento Ambiente\n",
    "@constraint(model, x[1,3] + x[2,3] + x[3,3]  == 30) # Aquecimento Água\n",
    "# Restrições de Capacidade\n",
    "@constraint(model, x[1,1] + x[1,2] + x[1,3]  <= 50) # Eletricidade\n",
    "@constraint(model, x[2,2] + x[2,3]  <= 50) # Painéis Solares\n",
    "@constraint(model, x[3,2] + x[3,3]  <= 20) # Gás Natural\n",
    "\n",
    "# Função Objetivo\n",
    "@objective(model, Min, sum(weights[n] * x[div(n-1,3)+1, mod(n-1,3)+1] for n in 1:9))"
   ]
  },
  {
   "cell_type": "code",
   "execution_count": 88,
   "metadata": {},
   "outputs": [
    {
     "name": "stdout",
     "output_type": "stream",
     "text": [
      "Valor Objetivo (Custo Mínimo): 2500.0\n",
      "x[1, 1] = 20\n",
      "x[1, 2] = 0\n",
      "x[1, 3] = 0\n",
      "x[2, 1] = 0\n",
      "x[2, 2] = 10\n",
      "x[2, 3] = 30\n",
      "x[3, 1] = 0\n",
      "x[3, 2] = 0\n",
      "x[3, 3] = 0\n"
     ]
    }
   ],
   "source": [
    "set_silent(model)\n",
    "optimize!(model)\n",
    "@assert is_solved_and_feasible(model)\n",
    "#solution_summary(model)\n",
    "println(\"Valor Objetivo (Custo Mínimo): \", objective_value(model))\n",
    "\n",
    "for m in 1:i\n",
    "    for n in 1:j\n",
    "        println(\"x[$m, $n] = \", round(Int, value(x[m,n])))\n",
    "    end\n",
    "end"
   ]
  },
  {
   "cell_type": "markdown",
   "metadata": {},
   "source": [
    "Alternativamente..."
   ]
  },
  {
   "cell_type": "code",
   "execution_count": 89,
   "metadata": {},
   "outputs": [
    {
     "name": "stdout",
     "output_type": "stream",
     "text": [
      "Função Objetivo: 50 x[1,1] + 90 x[1,2] + 80 x[1,3] + 30 x[2,2] + 40 x[2,3] + 60 x[3,2] + 50 x[3,3]\n",
      "x[1,1] = 20.0\n",
      "x[1,2] = 0.0\n",
      "x[1,3] = 0.0\n",
      "x[2,1] = 0.0\n",
      "x[2,2] = 10.0\n",
      "x[2,3] = 30.0\n",
      "x[3,1] = 0.0\n",
      "x[3,2] = 0.0\n",
      "x[3,3] = 0.0\n",
      "Valor Objetivo (Custo Mínimo): 2500.0\n"
     ]
    }
   ],
   "source": [
    "A = [1 0 0 0 0 0 0 0 0;\n",
    "0 1 0 0 1 0 0 1 0;\n",
    "0 0 1 0 0 1 0 0 1]\n",
    "b = [20; 10; 30]\n",
    "\n",
    "C = [1 1 1 0 0 0 0 0 0 ;\n",
    "0 0 0 0 1 1 0 0 0 ;\n",
    "0 0 0 0 0 0 0 1 1]\n",
    "d = [50; 50; 20];\n",
    "\n",
    "LPP_Transporte(i, j, weights, A, C, b, d)"
   ]
  },
  {
   "cell_type": "markdown",
   "metadata": {},
   "source": [
    "Observações: Iluminação recebe apenas de eletricidade, e aquecimento ambiente/água recebem apenas de painéis solares, que são a opção mais barata."
   ]
  }
 ],
 "metadata": {
  "kernelspec": {
   "display_name": "Julia 1.10.3",
   "language": "julia",
   "name": "julia-1.10"
  },
  "language_info": {
   "file_extension": ".jl",
   "mimetype": "application/julia",
   "name": "julia",
   "version": "1.10.3"
  }
 },
 "nbformat": 4,
 "nbformat_minor": 2
}
