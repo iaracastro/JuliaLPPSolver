{
 "cells": [
  {
   "cell_type": "code",
   "execution_count": 1,
   "metadata": {},
   "outputs": [],
   "source": [
    "using JuMP\n",
    "import HiGHS\n",
    "import GLPK\n",
    "using Clp"
   ]
  },
  {
   "cell_type": "markdown",
   "metadata": {},
   "source": [
    "## Lista 1"
   ]
  },
  {
   "cell_type": "markdown",
   "metadata": {},
   "source": [
    "### Questão 1"
   ]
  },
  {
   "cell_type": "code",
   "execution_count": 2,
   "metadata": {},
   "outputs": [
    {
     "data": {
      "text/latex": [
       "$ x_{1,1} + 1.5 x_{1,2} + 3.5 x_{1,3} + 2 x_{2,1} + x_{2,2} + 2 x_{2,3} $"
      ],
      "text/plain": [
       "x[1,1] + 1.5 x[1,2] + 3.5 x[1,3] + 2 x[2,1] + x[2,2] + 2 x[2,3]"
      ]
     },
     "metadata": {},
     "output_type": "display_data"
    }
   ],
   "source": [
    "#model = Model(HiGHS.Optimizer)\n",
    "model = Model(GLPK.Optimizer)\n",
    "\n",
    "i = 2\n",
    "j = 3\n",
    "weights = [1, 1.5, 3.5, 2, 1, 2]\n",
    "\n",
    "@variable(model, x[1:i, 1:j] >= 0)\n",
    "@constraint(model, x[1,1] + x[1,2] + x[1,3] <= 400)\n",
    "@constraint(model, x[2,1] + x[2,2] + x[2,3] <= 300)\n",
    "@constraint(model, x[1,1] + x[2,1]   == 100)\n",
    "@constraint(model, x[1,2] + x[2,2]  == 200)\n",
    "@constraint(model, x[1,3] + x[2,3]  == 300)\n",
    "\n",
    "#@objective(model, Min, sum(weights[n] * x[1:i, 1:j] for n in 1:6))\n",
    "@objective(model, Min, sum(weights[n] * x[div(n-1,3)+1, mod(n-1,3)+1] for n in 1:length(weights)))"
   ]
  },
  {
   "cell_type": "code",
   "execution_count": 3,
   "metadata": {},
   "outputs": [
    {
     "name": "stdout",
     "output_type": "stream",
     "text": [
      "Valor Objetivo (Custo Mínimo): 1000.0\n",
      "x[1, 1] = 100\n",
      "x[1, 2] = 200\n",
      "x[1, 3] = 0\n",
      "x[2, 1] = 0\n",
      "x[2, 2] = 0\n",
      "x[2, 3] = 300\n"
     ]
    }
   ],
   "source": [
    "optimize!(model)\n",
    "@assert is_solved_and_feasible(model)\n",
    "#solution_summary(model)\n",
    "println(\"Valor Objetivo (Custo Mínimo): \", objective_value(model))\n",
    "\n",
    "for m in 1:i\n",
    "    for n in 1:j\n",
    "        println(\"x[$m, $n] = \", round(Int, value(x[m,n])))\n",
    "    end\n",
    "end"
   ]
  },
  {
   "cell_type": "markdown",
   "metadata": {},
   "source": [
    "Minimum Cost: 1000 "
   ]
  },
  {
   "cell_type": "markdown",
   "metadata": {},
   "source": [
    "Generalizando para todos os casos:\n",
    "\n",
    "$$ \\begin{align} \\min \\; & c^T x \\\\\n",
    "s.t \\; & Ax = b \\\\\n",
    "& Cx \\leq d \\\\\n",
    "& x \\geq 0 \n",
    "\\end{align}$$"
   ]
  },
  {
   "cell_type": "code",
   "execution_count": 4,
   "metadata": {},
   "outputs": [
    {
     "data": {
      "text/plain": [
       "LPP_Transporte (generic function with 1 method)"
      ]
     },
     "metadata": {},
     "output_type": "display_data"
    }
   ],
   "source": [
    "function LPP_Transporte(i, j, weights, A, C, b, d)\n",
    "    model = Model(GLPK.Optimizer)\n",
    "    p = length(weights)\n",
    "    @variable(model, x[1:i, 1:j] >= 0)\n",
    "    x = reshape(x, p, 1)\n",
    "    for m in 1:j\n",
    "        @constraint(model, (A*x)[m] == b[m])\n",
    "    end\n",
    "    for n in 1:i\n",
    "        @constraint(model, (C*x)[n] <= d[n])\n",
    "    end\n",
    "\n",
    "    @objective(model, Min, sum(weights[k] * x[k] for k in 1:p))\n",
    "    println(\"Função Objetivo: \", objective_function(model))\n",
    "    optimize!(model)\n",
    "    for k in 1:p\n",
    "        m,n = div(k-1, j) + 1, mod(k-1, j) + 1\n",
    "        println(\"x[$m, $n] = \" , value(x[k]))\n",
    "    end\n",
    "    println(\"Valor Objetivo (Custo Mínimo): \", objective_value(model))\n",
    "end"
   ]
  },
  {
   "cell_type": "markdown",
   "metadata": {},
   "source": [
    "Exemplificando com o problema anterior..."
   ]
  },
  {
   "cell_type": "code",
   "execution_count": 5,
   "metadata": {},
   "outputs": [],
   "source": [
    "A = [1 0 0 1 0 0;\n",
    "0 1 0 0 1 0;\n",
    "0 0 1 0 0 1]\n",
    "b = [100;200;300]\n",
    "\n",
    "C = [1 1 1 0 0 0;\n",
    " 0 0 0 1 1 1]\n",
    "d = [400; 300]\n",
    "\n",
    "weights = [1 1.5 3.5 2 1 2]\n",
    "i = 2\n",
    "j = 3;"
   ]
  },
  {
   "cell_type": "code",
   "execution_count": 6,
   "metadata": {},
   "outputs": [
    {
     "name": "stdout",
     "output_type": "stream",
     "text": [
      "Função Objetivo: x[1,1] + 1.5 x[2,1] + 3.5 x[1,2] + 2 x[2,2] + x[1,3] + 2 x[2,3]\n",
      "x[1, 1] = 100.0\n",
      "x[1, 2] = 200.0\n",
      "x[1, 3] = 0.0\n",
      "x[2, 1] = 0.0\n",
      "x[2, 2] = 0.0\n",
      "x[2, 3] = 300.0\n",
      "Valor Objetivo (Custo Mínimo): 1000.0\n"
     ]
    }
   ],
   "source": [
    "LPP_Transporte(i, j, weights, A, C, b, d)"
   ]
  },
  {
   "cell_type": "markdown",
   "metadata": {},
   "source": [
    "## Lista 2"
   ]
  },
  {
   "cell_type": "markdown",
   "metadata": {},
   "source": [
    "### Problema da Mochila"
   ]
  },
  {
   "cell_type": "code",
   "execution_count": 7,
   "metadata": {},
   "outputs": [
    {
     "data": {
      "text/latex": [
       "$ 5 x_{1} + 3 x_{2} + 2 x_{3} + 7 x_{4} + 4 x_{5} $"
      ],
      "text/plain": [
       "5 x[1] + 3 x[2] + 2 x[3] + 7 x[4] + 4 x[5]"
      ]
     },
     "metadata": {},
     "output_type": "display_data"
    }
   ],
   "source": [
    "n = 5;\n",
    "capacity = 10.0;\n",
    "profit = [5.0, 3.0, 2.0, 7.0, 4.0];\n",
    "weight = [2.0, 8.0, 4.0, 2.0, 5.0];\n",
    "\n",
    "#model = Model(GLPK.Optimizer)\n",
    "model = Model(HiGHS.Optimizer)\n",
    "\n",
    "@variable(model, x[1:n], Bin)\n",
    "\n",
    "@constraint(model, sum(weight[i] * x[i] for i in 1:n) <= capacity)\n",
    "\n",
    "@objective(model, Max, sum(profit[i] * x[i] for i in 1:n))"
   ]
  },
  {
   "cell_type": "markdown",
   "metadata": {},
   "source": [
    "LPP:"
   ]
  },
  {
   "cell_type": "code",
   "execution_count": 8,
   "metadata": {},
   "outputs": [
    {
     "name": "stdout",
     "output_type": "stream",
     "text": [
      "Max 5 x[1] + 3 x[2] + 2 x[3] + 7 x[4] + 4 x[5]\n",
      "Subject to\n",
      " 2 x[1] + 8 x[2] + 4 x[3] + 2 x[4] + 5 x[5] <= 10\n",
      " x[1] binary\n",
      " x[2] binary\n",
      " x[3] binary\n",
      " x[4] binary\n",
      " x[5] binary\n"
     ]
    }
   ],
   "source": [
    "print(model)"
   ]
  },
  {
   "cell_type": "code",
   "execution_count": 9,
   "metadata": {},
   "outputs": [
    {
     "name": "stdout",
     "output_type": "stream",
     "text": [
      "Running HiGHS 1.7.0 (git hash: 50670fd4c): Copyright (c) 2024 HiGHS under MIT licence terms\n",
      "Coefficient ranges:\n",
      "  Matrix [2e+00, 8e+00]\n",
      "  Cost   [2e+00, 7e+00]\n",
      "  Bound  [1e+00, 1e+00]\n",
      "  RHS    [1e+01, 1e+01]\n",
      "Presolving model\n",
      "1 rows, 5 cols, 5 nonzeros  0s\n",
      "1 rows, 4 cols, 4 nonzeros  0s\n",
      "Objective function is integral with scale 1\n",
      "\n",
      "Solving MIP model with:\n",
      "   1 rows\n",
      "   4 cols (4 binary, 0 integer, 0 implied int., 0 continuous)\n",
      "   4 nonzeros\n",
      "\n",
      "        Nodes      |    B&B Tree     |            Objective Bounds              |  Dynamic Constraints |       Work      \n",
      "     Proc. InQueue |  Leaves   Expl. | BestBound       BestSol              Gap |   Cuts   InLp Confl. | LpIters     Time\n",
      "\n",
      "         0       0         0   0.00%   18              -inf                 inf        0      0      0         0     0.0s\n",
      "\n",
      "Solving report\n",
      "  Status            Optimal\n",
      "  Primal bound      16\n",
      "  Dual bound        16\n",
      "  Gap               0% (tolerance: 0.01%)\n",
      "  Solution status   feasible\n",
      "                    16 (objective)\n",
      "                    0 (bound viol.)\n",
      "                    0 (int. viol.)\n",
      "                    0 (row viol.)\n",
      "  Timing            0.02 (total)\n",
      "                    0.01 (presolve)\n",
      "                    0.00 (postsolve)\n",
      "  Nodes             1\n",
      "  LP iterations     1 (total)\n",
      "                    0 (strong br.)\n",
      "                    0 (separation)\n",
      "                    0 (heuristics)\n",
      "Valor Objetivo (Custo Mínimo): "
     ]
    }
   ],
   "source": [
    "#set_silent(model)\n",
    "optimize!(model)\n",
    "@assert is_solved_and_feasible(model)\n",
    "#solution_summary(model)\n",
    "println(\"Valor Objetivo (Custo Mínimo): \", objective_value(model))"
   ]
  },
  {
   "cell_type": "code",
   "execution_count": 10,
   "metadata": {},
   "outputs": [
    {
     "name": "stdout",
     "output_type": "stream",
     "text": [
      "16.0\n"
     ]
    },
    {
     "data": {
      "text/plain": [
       "3-element Vector{Int64}:\n",
       " 1\n",
       " 4\n",
       " 5"
      ]
     },
     "metadata": {},
     "output_type": "display_data"
    }
   ],
   "source": [
    "items_chosen = [i for i in 1:n if value(x[i]) == 1]\n",
    "items_chosen"
   ]
  },
  {
   "cell_type": "code",
   "execution_count": 11,
   "metadata": {},
   "outputs": [
    {
     "name": "stdout",
     "output_type": "stream",
     "text": [
      "x[1] = 1, c[1] / w[1] = 2.5\n",
      "x[2] = 0, c[2] / w[2] = 0.375\n"
     ]
    }
   ],
   "source": [
    "for i in 1:n\n",
    "    print(\"x[$i] = \", round(Int, value(x[i])))\n",
    "    println(\", c[$i] / w[$i] = \", profit[i] / weight[i])\n",
    "end"
   ]
  },
  {
   "cell_type": "markdown",
   "metadata": {},
   "source": [
    "Maximum Profit = 16 \\\n",
    "Choosen Objects = 1,4,5"
   ]
  },
  {
   "cell_type": "markdown",
   "metadata": {},
   "source": [
    "## Prova A1"
   ]
  },
  {
   "cell_type": "markdown",
   "metadata": {},
   "source": [
    "### Questão 2"
   ]
  },
  {
   "cell_type": "code",
   "execution_count": 15,
   "metadata": {},
   "outputs": [
    {
     "data": {
      "text/latex": [
       "$ 50 x_{1,1} + 90 x_{1,2} + 80 x_{1,3} + 30 x_{2,2} + 40 x_{3,2} + 50 x_{3,3} $"
      ],
      "text/plain": [
       "50 x[1,1] + 90 x[1,2] + 80 x[1,3] + 30 x[2,2] + 40 x[3,2] + 50 x[3,3]"
      ]
     },
     "metadata": {},
     "output_type": "display_data"
    }
   ],
   "source": [
    "model = Model(HiGHS.Optimizer)\n",
    "\n",
    "i = 3\n",
    "j = 3\n",
    "weights = [50, 90, 80, 0, 30, 0, 0, 40, 50]\n",
    "\n",
    "@variable(model, x[1:i, 1:j] >= 0)\n",
    "\n",
    "@constraint(model, x[1,1] == 20)\n",
    "@constraint(model, x[1,2] + x[2,2] + x[3,2] == 10)\n",
    "@constraint(model, x[1,3] + x[2,3] + x[3,3]  == 30)\n",
    "@constraint(model, x[1,1] + x[1,2] + x[1,3]  <= 50)\n",
    "@constraint(model, x[2,2] + x[2,3]  <= 50)\n",
    "@constraint(model, x[3,2] + x[3,3]  <= 20)\n",
    "\n",
    "#@objective(model, Min, sum(weights[n] * x[1:i, 1:j] for n in 1:6))\n",
    "@objective(model, Min, sum(weights[n] * x[div(n-1,3)+1, mod(n-1,3)+1] for n in 1:9))"
   ]
  },
  {
   "cell_type": "code",
   "execution_count": 17,
   "metadata": {},
   "outputs": [
    {
     "name": "stdout",
     "output_type": "stream",
     "text": [
      "Coefficient ranges:\n",
      "  Matrix [1e+00, 1e+00]\n",
      "  Cost   [3e+01, 9e+01]\n",
      "  Bound  [0e+00, 0e+00]\n",
      "  RHS    [1e+01, 5e+01]\n",
      "Solving LP without presolve, or with basis, or unconstrained\n",
      "Model   status      : Optimal\n",
      "Objective value     :  1.3000000000e+03\n",
      "HiGHS run time      :          0.00\n",
      "Valor Objetivo (Custo Mínimo): 1300.0"
     ]
    }
   ],
   "source": [
    "optimize!(model)\n",
    "@assert is_solved_and_feasible(model)\n",
    "#solution_summary(model)\n",
    "print(\"Valor Objetivo (Custo Mínimo): \", objective_value(model))"
   ]
  },
  {
   "cell_type": "code",
   "execution_count": 18,
   "metadata": {},
   "outputs": [
    {
     "name": "stdout",
     "output_type": "stream",
     "text": [
      "x[1, 1] = 20\n",
      "x[1, 2] = 0\n",
      "x[1, 3] = 0\n",
      "x[2, 1] = 0\n",
      "x[2, 2] = 10\n",
      "x[2, 3] = 30\n",
      "x[3, 1] = 0\n",
      "x[3, 2] = 0\n",
      "x[3, 3] = 0\n"
     ]
    }
   ],
   "source": [
    "for i in 1:3\n",
    "    for j in 1:3\n",
    "        println(\"x[$i, $j] = \", round(Int, value(x[i,j])))\n",
    "    end\n",
    "end"
   ]
  },
  {
   "cell_type": "markdown",
   "metadata": {},
   "source": [
    "Minimum Cost: 1300 \\\n",
    "Observations: Ilumination recieves only from eletricity, and space/water heating recieve from solar painels (its the cheapiest)"
   ]
  }
 ],
 "metadata": {
  "kernelspec": {
   "display_name": "Julia 1.10.0",
   "language": "julia",
   "name": "julia-1.10"
  },
  "language_info": {
   "file_extension": ".jl",
   "mimetype": "application/julia",
   "name": "julia",
   "version": "1.10.0"
  }
 },
 "nbformat": 4,
 "nbformat_minor": 2
}
