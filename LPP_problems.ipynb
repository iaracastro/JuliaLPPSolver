{
 "cells": [
  {
   "cell_type": "code",
   "execution_count": 1,
   "metadata": {},
   "outputs": [],
   "source": [
    "using JuMP\n",
    "import HiGHS\n",
    "import GLPK\n",
    "using Clp"
   ]
  },
  {
   "cell_type": "markdown",
   "metadata": {},
   "source": [
    "## Lista 1"
   ]
  },
  {
   "cell_type": "markdown",
   "metadata": {},
   "source": [
    "### Questão 1"
   ]
  },
  {
   "cell_type": "code",
   "execution_count": 2,
   "metadata": {},
   "outputs": [
    {
     "data": {
      "text/latex": [
       "$ x_{1,1} + 1.5 x_{1,2} + 3.5 x_{1,3} + 2 x_{2,1} + x_{2,2} + 2 x_{2,3} $"
      ],
      "text/plain": [
       "x[1,1] + 1.5 x[1,2] + 3.5 x[1,3] + 2 x[2,1] + x[2,2] + 2 x[2,3]"
      ]
     },
     "metadata": {},
     "output_type": "display_data"
    }
   ],
   "source": [
    "#model = Model(HiGHS.Optimizer)\n",
    "model = Model(GLPK.Optimizer)\n",
    "\n",
    "i = 2\n",
    "j = 3\n",
    "weights = [1, 1.5, 3.5, 2, 1, 2]\n",
    "\n",
    "@variable(model, x[1:i, 1:j] >= 0)\n",
    "@constraint(model, x[1,1] + x[2,1]   == 100)\n",
    "@constraint(model, x[1,2] + x[2,2]  == 200)\n",
    "@constraint(model, x[1,3] + x[2,3]  == 300)\n",
    "@constraint(model, x[1,1] + x[1,2] + x[1,3] <= 400)\n",
    "@constraint(model, x[2,1] + x[2,2] + x[2,3] <= 300)\n",
    "\n",
    "#@objective(model, Min, sum(weights[n] * x[1:i, 1:j] for n in 1:6))\n",
    "@objective(model, Min, sum(weights[n] * x[div(n-1,3)+1, mod(n-1,3)+1] for n in 1:length(weights)))"
   ]
  },
  {
   "cell_type": "code",
   "execution_count": 3,
   "metadata": {},
   "outputs": [
    {
     "name": "stdout",
     "output_type": "stream",
     "text": [
      "Valor Objetivo (Custo Mínimo): 1000.0\n",
      "x[1, 1] = 100\n",
      "x[1, 2] = 200\n",
      "x[1, 3] = 0\n",
      "x[2, 1] = 0\n",
      "x[2, 2] = 0\n",
      "x[2, 3] = 300\n"
     ]
    }
   ],
   "source": [
    "optimize!(model)\n",
    "@assert is_solved_and_feasible(model)\n",
    "#solution_summary(model)\n",
    "println(\"Valor Objetivo (Custo Mínimo): \", objective_value(model))\n",
    "\n",
    "for m in 1:i\n",
    "    for n in 1:j\n",
    "        println(\"x[$m, $n] = \", round(Int, value(x[m,n])))\n",
    "    end\n",
    "end"
   ]
  },
  {
   "cell_type": "markdown",
   "metadata": {},
   "source": [
    "Minimum Cost: 1000 "
   ]
  },
  {
   "cell_type": "markdown",
   "metadata": {},
   "source": [
    "Generalizando para todos os casos:\n",
    "\n",
    "$$ \\begin{align} \\min \\; & c^T x \\\\\n",
    "s.t \\; & Ax = b \\\\\n",
    "& Cx \\leq d \\\\\n",
    "& x \\geq 0 \n",
    "\\end{align}$$"
   ]
  },
  {
   "cell_type": "code",
   "execution_count": 198,
   "metadata": {},
   "outputs": [
    {
     "data": {
      "text/plain": [
       "print_var (generic function with 1 method)"
      ]
     },
     "metadata": {},
     "output_type": "display_data"
    }
   ],
   "source": [
    "function LPP_Transporte(i, j, weights, A, C, b, d)\n",
    "    model = Model(GLPK.Optimizer)\n",
    "    p = length(weights)\n",
    "    @variable(model, x[1:i, 1:j] >= 0)\n",
    "    x = reshape(x', p, 1)\n",
    "    for m in 1:length(b)\n",
    "        @constraint(model, (A*x)[m] == b[m])\n",
    "    end\n",
    "    for n in 1:length(d)\n",
    "        @constraint(model, (C*x)[n] <= d[n])\n",
    "    end\n",
    "    @objective(model, Min, sum(weights[k] * x[k] for k in 1:p))\n",
    "    println(\"Função Objetivo: \", objective_function(model))\n",
    "    optimize!(model)\n",
    "    for k in 1:p\n",
    "        #m,n = div(k-1, j) + 1, mod(k-1, j) + 1\n",
    "        println(x[k],\" = \", value(x[k]))\n",
    "    end\n",
    "    println(\"Valor Objetivo (Custo Mínimo): \", objective_value(model))\n",
    "    #print(x)\n",
    "end\n",
    "\n",
    "function print_var(x)\n",
    "    if typeof(x) == Matrix{VariableRef}\n",
    "        for i in 1:size(x,1)\n",
    "            for j in 1:size(x,2)\n",
    "                println(x[i,j], \" = \", round(Int, value(x[i,j])))\n",
    "            end\n",
    "        end\n",
    "    elseif typeof(x) == Vector{VariableRef}\n",
    "        for i in 1:length(x)\n",
    "            println(x[i],\" = \", round(Int, value(x[i])))\n",
    "        end\n",
    "    elseif typeof(x) == VariableRef\n",
    "        println(x, \" = \", value(x))\n",
    "    else \n",
    "        println(\"Tipo de variável não suportado\")\n",
    "    end\n",
    "end"
   ]
  },
  {
   "cell_type": "code",
   "execution_count": null,
   "metadata": {},
   "outputs": [
    {
     "name": "stdout",
     "output_type": "stream",
     "text": [
      "Função Objetivo: 50 x[1,1] + 90 x[1,2] + 80 x[1,3] + 30 x[2,2] + 40 x[2,3] + 60 x[3,2] + 50 x[3,3]\n",
      "x[1,1] = 20.0\n",
      "x[1,2] = 0.0\n",
      "x[1,3] = 0.0\n",
      "x[2,1] = 0.0\n",
      "x[2,2] = 10.0\n",
      "x[2,3] = 30.0\n",
      "x[3,1] = 0.0\n",
      "x[3,2] = 0.0\n",
      "x[3,3] = 0.0\n",
      "Valor Objetivo (Custo Mínimo): 2500.0\n"
     ]
    }
   ],
   "source": [
    "LPP_Transporte(i, j, weights, A, C, b, d)"
   ]
  },
  {
   "cell_type": "markdown",
   "metadata": {},
   "source": [
    "Exemplificando com o problema anterior..."
   ]
  },
  {
   "cell_type": "code",
   "execution_count": 112,
   "metadata": {},
   "outputs": [],
   "source": [
    "A = [1 0 0 1 0 0;\n",
    "0 1 0 0 1 0;\n",
    "0 0 1 0 0 1]\n",
    "b = [100;200;300]\n",
    "\n",
    "C = [1 1 1 0 0 0;\n",
    " 0 0 0 1 1 1]\n",
    "d = [400; 300]\n",
    "\n",
    "weights = [1 1.5 3.5 2 1 2]\n",
    "i = 2\n",
    "j = 3;"
   ]
  },
  {
   "cell_type": "code",
   "execution_count": 113,
   "metadata": {},
   "outputs": [
    {
     "name": "stdout",
     "output_type": "stream",
     "text": [
      "Função Objetivo: x[1,1] + 1.5 x[1,2] + 3.5 x[1,3] + 2 x[2,1] + x[2,2] + 2 x[2,3]\n",
      "x[1,1] = 100.0\n",
      "x[1,2] = 200.0\n",
      "x[1,3] = 0.0\n",
      "x[2,1] = 0.0\n",
      "x[2,2] = 0.0\n",
      "x[2,3] = 300.0\n",
      "Valor Objetivo (Custo Mínimo): 1000.0\n"
     ]
    }
   ],
   "source": [
    "LPP_Transporte(i, j, weights, A, C, b, d)"
   ]
  },
  {
   "cell_type": "markdown",
   "metadata": {},
   "source": [
    "## Lista 2"
   ]
  },
  {
   "cell_type": "markdown",
   "metadata": {},
   "source": [
    "### Problema da Mochila"
   ]
  },
  {
   "cell_type": "code",
   "execution_count": 193,
   "metadata": {},
   "outputs": [
    {
     "data": {
      "text/latex": [
       "$ 5 x_{1} + 3 x_{2} + 2 x_{3} + 7 x_{4} + 4 x_{5} $"
      ],
      "text/plain": [
       "5 x[1] + 3 x[2] + 2 x[3] + 7 x[4] + 4 x[5]"
      ]
     },
     "metadata": {},
     "output_type": "display_data"
    }
   ],
   "source": [
    "n = 5;\n",
    "capacity = 10.0;\n",
    "profit = [5.0, 3.0, 2.0, 7.0, 4.0];\n",
    "weight = [2.0, 8.0, 4.0, 2.0, 5.0];\n",
    "\n",
    "#model = Model(GLPK.Optimizer)\n",
    "model = Model(HiGHS.Optimizer)\n",
    "\n",
    "@variable(model, x[1:n], Bin)\n",
    "\n",
    "@constraint(model, sum(weight[i] * x[i] for i in 1:n) <= capacity)\n",
    "\n",
    "@objective(model, Max, sum(profit[i] * x[i] for i in 1:n))"
   ]
  },
  {
   "cell_type": "markdown",
   "metadata": {},
   "source": [
    "LPP:"
   ]
  },
  {
   "cell_type": "code",
   "execution_count": 194,
   "metadata": {},
   "outputs": [
    {
     "name": "stdout",
     "output_type": "stream",
     "text": [
      "Max 5 x[1] + 3 x[2] + 2 x[3] + 7 x[4] + 4 x[5]\n",
      "Subject to\n",
      " 2 x[1] + 8 x[2] + 4 x[3] + 2 x[4] + 5 x[5] <= 10\n",
      " x[1] binary\n",
      " x[2] binary\n",
      " x[3] binary\n",
      " x[4] binary\n",
      " x[5] binary\n"
     ]
    }
   ],
   "source": [
    "print(model)"
   ]
  },
  {
   "cell_type": "code",
   "execution_count": 195,
   "metadata": {},
   "outputs": [
    {
     "name": "stdout",
     "output_type": "stream",
     "text": [
      "Valor Objetivo (Custo Mínimo): 16.0\n"
     ]
    }
   ],
   "source": [
    "set_silent(model)\n",
    "optimize!(model)\n",
    "@assert is_solved_and_feasible(model)\n",
    "#solution_summary(model)\n",
    "println(\"Valor Objetivo (Custo Mínimo): \", objective_value(model))"
   ]
  },
  {
   "cell_type": "code",
   "execution_count": 197,
   "metadata": {},
   "outputs": [
    {
     "name": "stdout",
     "output_type": "stream",
     "text": [
      "Itens Escolhidos: [1, 4, 5]"
     ]
    }
   ],
   "source": [
    "print(\"Itens Escolhidos: \", [i for i in 1:n if value(x[i]) == 1])"
   ]
  },
  {
   "cell_type": "markdown",
   "metadata": {},
   "source": [
    "Maximum Profit = 16 \\\n",
    "Choosen Objects = 1,4,5"
   ]
  },
  {
   "cell_type": "markdown",
   "metadata": {},
   "source": [
    "## Prova A1"
   ]
  },
  {
   "cell_type": "markdown",
   "metadata": {},
   "source": [
    "### Questão 1 "
   ]
  },
  {
   "cell_type": "code",
   "execution_count": 186,
   "metadata": {},
   "outputs": [],
   "source": [
    "model = Model(HiGHS.Optimizer)\n",
    "\n",
    "i = 4\n",
    "j = 3\n",
    "\n",
    "# l_i: quantidade de líquido i revendido diretamente\n",
    "@variable(model, l[1:i] >= 0)\n",
    "# x_ij: quantidade de líquido i = 1,2,3,4 (A,B,C,D) usado na produção de j = 1,2,3 (E,F,G)\n",
    "@variable(model, x[1:i, 1:j] >= 0)\n",
    "# p: quantidade de líquido P produzido\n",
    "@variable(model, p >= 0)\n",
    "\n",
    "# make sum of x[m,j] <= 8000 as constraint\n",
    "d = [8000, 4250, 16000, 2000]\n",
    "for m in 1:i\n",
    "    @constraint(model, l[m] + sum(x[m,j] for j in 1:j) <= d[m])\n",
    "end\n",
    "\n",
    "# Para produzir E, j=1\n",
    "@constraint(model, x[1,1] == 0.3 * sum(x[m,1] for m in 1:i)) # A \n",
    "@constraint(model, x[2,1] >= 0.1 * sum(x[m,1] for m in 1:i)) # B\n",
    "@constraint(model, x[3,1] == 0.4 * sum(x[m,1] for m in 1:i)) # C\n",
    "@constraint(model, x[4,1] <= 0.05 * sum(x[m,1] for m in 1:i)) # D\n",
    "\n",
    "# Para produzir F, j=2\n",
    "@constraint(model, x[1,2] == 0.25 * sum(x[m,2] for m in 1:i)) # A\n",
    "@constraint(model, x[2,2] <= 0.2 * sum(x[m,2] for m in 1:i)) # B\n",
    "@constraint(model, x[3,2] == 0.2 * sum(x[m,2] for m in 1:i)) # C\n",
    "@constraint(model, x[4,2] >= 0.1 * sum(x[m,2] for m in 1:i)) # D\n",
    "\n",
    "# Para produzir G, j=3\n",
    "@constraint(model, x[1,3] == 0.2 * sum(x[m,3] for m in 1:i)) # A\n",
    "@constraint(model, x[2,3] >= 0.15 * sum(x[m,3] for m in 1:i)) # B\n",
    "@constraint(model, x[3,3] == 0.4 * sum(x[m,3] for m in 1:i)) # C\n",
    "@constraint(model, x[4,3] <= 0.2 * sum(x[m,3] for m in 1:i)) # D\n",
    "\n",
    "# A produção de líquidos E,F,G deve suprir a obrigação da empresa\n",
    "@constraint(model, sum(x[m,1] for m in 1:i) >= 400)\n",
    "@constraint(model, sum(x[m,2] for m in 1:i) >= 800)\n",
    "@constraint(model, sum(x[m,3] for m in 1:i) >= 200)\n",
    "\n",
    "# O líquido P deve satisfazer as proporções especificadas de líquido E e G\n",
    "@constraint(model, p/3 <= sum(x[m,1] for m in 1:i))\n",
    "@constraint(model, 2*p/3 <= sum(x[m,3] for m in 1:i))\n",
    "\n",
    "# Função Objetivo\n",
    "@objective(model, Max, 6*(sum(l[m] for m in 1:i)) + 11*(sum(x[m,1] for m in 1:i) - p/3) + 15*(sum(x[m,2] for m in 1:i)) + 14*(sum(x[m,3] for m in 1:i) - 2*p/3)) + 22*p - 5.5*(l[1] + sum(x[1,n] for n in 1:j)) - 3.5*(l[2] + sum(x[2,j] for j in 1:j)) - 7.5*(l[3] + sum(x[3,j] for j in 1:j)) - 11.5*(l[4] + sum(x[4,j] for j in 1:j));"
   ]
  },
  {
   "cell_type": "code",
   "execution_count": 188,
   "metadata": {},
   "outputs": [
    {
     "name": "stdout",
     "output_type": "stream",
     "text": [
      "Coefficient ranges:\n",
      "  Matrix [5e-02, 1e+00]\n",
      "  Cost   [6e+00, 2e+01]\n",
      "  Bound  [0e+00, 0e+00]\n",
      "  RHS    [2e+02, 2e+04]\n",
      "Solving LP without presolve, or with basis, or unconstrained\n",
      "Model   status      : Optimal\n",
      "Objective value     :  3.0450000000e+05\n",
      "HiGHS run time      :          0.00\n",
      "Valor Objetivo (Lucro Máximo): 304500.0"
     ]
    }
   ],
   "source": [
    "optimize!(model)\n",
    "@assert is_solved_and_feasible(model)\n",
    "print(\"Valor Objetivo (Lucro Máximo): \", objective_value(model))"
   ]
  },
  {
   "cell_type": "code",
   "execution_count": 179,
   "metadata": {},
   "outputs": [
    {
     "name": "stdout",
     "output_type": "stream",
     "text": [
      "x[1,1] = 120\n",
      "x[1,2] = 200\n",
      "x[1,3] = 2845\n",
      "x[2,1] = 120\n",
      "x[2,2] = 0\n",
      "x[2,3] = 4130\n",
      "x[3,1] = 160\n",
      "x[3,2] = 160\n",
      "x[3,3] = 5690\n",
      "x[4,1] = 0\n",
      "x[4,2] = 440\n",
      "x[4,3] = 1560\n"
     ]
    }
   ],
   "source": [
    "print_var(x)"
   ]
  },
  {
   "cell_type": "code",
   "execution_count": 180,
   "metadata": {},
   "outputs": [
    {
     "name": "stdout",
     "output_type": "stream",
     "text": [
      "p = 0.0\n"
     ]
    }
   ],
   "source": [
    "print_var(p)"
   ]
  },
  {
   "cell_type": "code",
   "execution_count": 181,
   "metadata": {},
   "outputs": [
    {
     "name": "stdout",
     "output_type": "stream",
     "text": [
      "l[1] = 4835\n",
      "l[2] = 0\n",
      "l[3] = 9990\n",
      "l[4] = 0\n"
     ]
    }
   ],
   "source": [
    "print_var(l)"
   ]
  },
  {
   "cell_type": "markdown",
   "metadata": {},
   "source": [
    "Lucro Máximo: 304500"
   ]
  },
  {
   "cell_type": "markdown",
   "metadata": {},
   "source": [
    "### Questão 2"
   ]
  },
  {
   "cell_type": "code",
   "execution_count": 101,
   "metadata": {},
   "outputs": [
    {
     "data": {
      "text/latex": [
       "$ 50 x_{1,1} + 90 x_{1,2} + 80 x_{1,3} + 30 x_{2,2} + 40 x_{2,3} + 60 x_{3,2} + 50 x_{3,3} $"
      ],
      "text/plain": [
       "50 x[1,1] + 90 x[1,2] + 80 x[1,3] + 30 x[2,2] + 40 x[2,3] + 60 x[3,2] + 50 x[3,3]"
      ]
     },
     "metadata": {},
     "output_type": "display_data"
    }
   ],
   "source": [
    "model = Model(HiGHS.Optimizer)\n",
    "\n",
    "i = 3\n",
    "j = 3\n",
    "weights = [50, 90, 80, 0, 30, 40, 0, 60, 50]\n",
    "\n",
    "@variable(model, x[1:i, 1:j] >= 0)\n",
    "\n",
    "@constraint(model, x[1,1] == 20)\n",
    "@constraint(model, x[1,2] + x[2,2] + x[3,2] == 10)\n",
    "@constraint(model, x[1,3] + x[2,3] + x[3,3]  == 30)\n",
    "@constraint(model, x[1,1] + x[1,2] + x[1,3]  <= 50)\n",
    "@constraint(model, x[2,2] + x[2,3]  <= 50)\n",
    "@constraint(model, x[3,2] + x[3,3]  <= 20)\n",
    "\n",
    "#@objective(model, Min, sum(weights[n] * x[1:i, 1:j] for n in 1:6))\n",
    "@objective(model, Min, sum(weights[n] * x[div(n-1,3)+1, mod(n-1,3)+1] for n in 1:9))"
   ]
  },
  {
   "cell_type": "code",
   "execution_count": 102,
   "metadata": {},
   "outputs": [
    {
     "name": "stdout",
     "output_type": "stream",
     "text": [
      "Running HiGHS 1.7.0 (git hash: 50670fd4c): Copyright (c) 2024 HiGHS under MIT licence terms\n",
      "Coefficient ranges:\n",
      "  Matrix [1e+00, 1e+00]\n",
      "  Cost   [3e+01, 9e+01]\n",
      "  Bound  [0e+00, 0e+00]\n",
      "  RHS    [1e+01, 5e+01]\n",
      "Presolving model\n",
      "3 rows, 4 cols, 6 nonzeros  0s\n",
      "0 rows, 0 cols, 0 nonzeros  0s\n",
      "Presolve : Reductions: rows 0(-6); columns 0(-9); elements 0(-14) - Reduced to empty\n",
      "Solving the original LP from the solution after postsolve\n",
      "Model   status      : Optimal\n",
      "Objective value     :  2.5000000000e+03\n",
      "HiGHS run time      :          0.00\n",
      "Valor Objetivo (Custo Mínimo): 2500.0"
     ]
    }
   ],
   "source": [
    "optimize!(model)\n",
    "@assert is_solved_and_feasible(model)\n",
    "#solution_summary(model)\n",
    "print(\"Valor Objetivo (Custo Mínimo): \", objective_value(model))"
   ]
  },
  {
   "cell_type": "code",
   "execution_count": 107,
   "metadata": {},
   "outputs": [
    {
     "name": "stdout",
     "output_type": "stream",
     "text": [
      "x[1, 1] = 20\n",
      "x[1, 2] = 0\n",
      "x[1, 3] = 0\n",
      "x[2, 1] = 0\n",
      "x[2, 2] = 10\n",
      "x[2, 3] = 30\n",
      "x[3, 1] = 0\n",
      "x[3, 2] = 0\n",
      "x[3, 3] = 0\n"
     ]
    }
   ],
   "source": [
    "for m in 1:i\n",
    "    for n in 1:j\n",
    "        println(\"x[$m, $n] = \", round(Int, value(x[m,n])))\n",
    "    end\n",
    "end"
   ]
  },
  {
   "cell_type": "markdown",
   "metadata": {},
   "source": [
    "Alternativamente..."
   ]
  },
  {
   "cell_type": "code",
   "execution_count": 104,
   "metadata": {},
   "outputs": [],
   "source": [
    "A = [1 0 0 0 0 0 0 0 0;\n",
    "0 1 0 0 1 0 0 1 0;\n",
    "0 0 1 0 0 1 0 0 1]\n",
    "b = [20; 10; 30]\n",
    "\n",
    "C = [1 1 1 0 0 0 0 0 0 ;\n",
    "0 0 0 0 1 1 0 0 0 ;\n",
    "0 0 0 0 0 0 0 1 1]\n",
    "d = [50; 50; 20];"
   ]
  },
  {
   "cell_type": "code",
   "execution_count": 105,
   "metadata": {},
   "outputs": [
    {
     "name": "stdout",
     "output_type": "stream",
     "text": [
      "Função Objetivo: 50 x[1,1] + 90 x[1,2] + 80 x[1,3] + 30 x[2,2] + 40 x[2,3] + 60 x[3,2] + 50 x[3,3]\n",
      "x[1,1] = 20.0\n",
      "x[1,2] = 0.0\n",
      "x[1,3] = 0.0\n",
      "x[2,1] = 0.0\n",
      "x[2,2] = 10.0\n",
      "x[2,3] = 30.0\n",
      "x[3,1] = 0.0\n",
      "x[3,2] = 0.0\n",
      "x[3,3] = 0.0\n",
      "Valor Objetivo (Custo Mínimo): 2500.0\n"
     ]
    }
   ],
   "source": [
    "LPP_Transporte(i, j, weights, A, C, b, d)"
   ]
  },
  {
   "cell_type": "markdown",
   "metadata": {},
   "source": [
    "Minimum Cost: 2500 \\\n",
    "Observations: Ilumination recieves only from eletricity, and space/water heating recieve from solar painels (its the cheapiest)"
   ]
  }
 ],
 "metadata": {
  "kernelspec": {
   "display_name": "Julia 1.10.0",
   "language": "julia",
   "name": "julia-1.10"
  },
  "language_info": {
   "file_extension": ".jl",
   "mimetype": "application/julia",
   "name": "julia",
   "version": "1.10.0"
  }
 },
 "nbformat": 4,
 "nbformat_minor": 2
}
