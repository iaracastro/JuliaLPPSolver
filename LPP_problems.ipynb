{
 "cells": [
  {
   "cell_type": "markdown",
   "metadata": {},
   "source": [
    "### Instalação dos pacotes em Julia"
   ]
  },
  {
   "cell_type": "code",
   "execution_count": null,
   "metadata": {},
   "outputs": [],
   "source": [
    "import Pkg; Pkg.add(\"JuMP\")\n",
    "import Pkg; Pkg.add(\"HiGHS\")\n",
    "import Pkg; Pkg.add(\"GLPK\")\n",
    "import Pkg; Pkg.add(\"Clp\")\n",
    "import Pkg; Pkg.add(\"DataFrames\")"
   ]
  },
  {
   "cell_type": "markdown",
   "metadata": {},
   "source": [
    "### Importando às bibliotecas que serão usadas para resolver os problemas de PLI"
   ]
  },
  {
   "cell_type": "code",
   "execution_count": 1,
   "metadata": {},
   "outputs": [],
   "source": [
    "using JuMP\n",
    "import HiGHS\n",
    "import GLPK\n",
    "using Clp\n",
    "using Ipopt\n",
    "using DataFrames"
   ]
  },
  {
   "cell_type": "markdown",
   "metadata": {},
   "source": [
    "### Funções Auxiliares\n",
    "\n",
    "Vamos criar uma função que resolva todos os casos na forma:\n",
    "\n",
    "$$ \\begin{align} \\min / \\max \\; & c^T x \\\\\n",
    "s.t \\; & Ax = b \\\\\n",
    "& Cx \\leq d \\\\\n",
    "& x \\geq 0 \n",
    "\\end{align}$$\n",
    "\n",
    "E outras funções para facilitar a visualização dos resultados."
   ]
  },
  {
   "cell_type": "code",
   "execution_count": 2,
   "metadata": {},
   "outputs": [
    {
     "data": {
      "text/plain": [
       "build_df (generic function with 1 method)"
      ]
     },
     "metadata": {},
     "output_type": "display_data"
    }
   ],
   "source": [
    "# Resolve um problema de programação linear inteira nas formas acima\n",
    "function LPP_Cases(opt, index, weights, A, b, C, d)\n",
    "    model = Model(GLPK.Optimizer)\n",
    "    p = length(weights)\n",
    "    # Se x tem dimensão (i,j)\n",
    "    if typeof(index) == Tuple{Int64, Int64}\n",
    "        i, j = index\n",
    "        @variable(model, x[1:i, 1:j] >= 0)\n",
    "        x = reshape(x', p, 1)\n",
    "    # Se x é um vetor\n",
    "    else\n",
    "        @variable(model, x[1:index] >= 0)\n",
    "    end\n",
    "    # Se houver restrições de igualdade\n",
    "    if A != 0\n",
    "        for m in 1:length(b)\n",
    "            @constraint(model, (A*x)[m] == b[m])\n",
    "        end\n",
    "    end\n",
    "    # Se houver restrições de desigualdade (<=)\n",
    "    if C != 0\n",
    "        for n in 1:length(d)\n",
    "            @constraint(model, (C*x)[n] <= d[n])\n",
    "        end\n",
    "    end\n",
    "    # Se a função objetivo for de maximização\n",
    "    if opt == \"Max\"\n",
    "        @objective(model, Max, sum(weights[k] * x[k] for k in 1:p))\n",
    "        objetivo = \"(Lucro Máximo)\"\n",
    "    # Se a função objetivo for de minimização\n",
    "    else\n",
    "        @objective(model, Min, sum(weights[k] * x[k] for k in 1:p))\n",
    "        objetivo = \"(Custo Mínimo)\"\n",
    "    end\n",
    "    optimize!(model)\n",
    "    println(\"Função Objetivo: $opt \", objective_function(model))\n",
    "    println(\"Valor Objetivo $objetivo: \", objective_value(model))\n",
    "    println(\"Valores Encontradas: \")\n",
    "    for i in all_variables(model)\n",
    "        println(i, \" = \", value(i))\n",
    "    end\n",
    "end\n",
    "\n",
    "# Printa o valor das variáveis de decisão que foram encontradas\n",
    "function print_var(x)\n",
    "    # Se for uma Matrix\n",
    "    if typeof(x) == Matrix{VariableRef}\n",
    "        for i in 1:size(x,1)\n",
    "            for j in 1:size(x,2)\n",
    "                if value(x[i,j]) - round(value(x[i,j])) < 0.5\n",
    "                    println(x[i,j], \" = \", round(Int, value(x[i,j])))\n",
    "                else\n",
    "                    println(x[i,j], \" = \", value(x[i,j]))\n",
    "                end\n",
    "            end\n",
    "        end\n",
    "    # Se for um vetor\n",
    "    elseif typeof(x) == Vector{VariableRef}\n",
    "        for i in 1:length(x)\n",
    "            println(x[i],\" = \", value(x[i]))\n",
    "        end\n",
    "    # Se for apenas uma variável\n",
    "    elseif typeof(x) == VariableRef\n",
    "        println(x, \" = \", value(x))\n",
    "    else \n",
    "        println(\"Tipo de variável não suportado.\")\n",
    "    end\n",
    "end\n",
    "\n",
    "function print_model(model::Model, vars)\n",
    "    # Se não tem muitas restrições, printa o modelo\n",
    "    if sum(num_constraints(model, F, S) for (F, S) in list_of_constraint_types(model)) < 15\n",
    "        println(\"Resolvendo o LPP:\", \"\\n\", model)\n",
    "    end\n",
    "    println(\"Valor Objetivo: \", objective_value(model))\n",
    "    println(\"Valores Encontrados: \")\n",
    "    for var in vars\n",
    "        print_var(var)\n",
    "    end\n",
    "end\n",
    "\n",
    "# Constrói um DataFrame com os nomes das variáveis e seus valores\n",
    "function build_df(names::Vector{String}, values::Vector{Vector})\n",
    "    n_cols, n_rows = length(names), length(values[1])\n",
    "    if n_cols != length(values)\n",
    "        println(\"Número de colunas e linhas não correspondem.\")\n",
    "        return\n",
    "    end\n",
    "    results = Matrix{Any}(undef, n_rows, n_cols)\n",
    "    # Preenche a matriz com os valores das variáveis\n",
    "    for i in 1:n_cols\n",
    "        for j in 1:n_rows\n",
    "            if (typeof(values[i][j]) == VariableRef) || (typeof(values[i][j]) == AffExpr)\n",
    "                results[j,i] = round(Int, value(values[i][j]))\n",
    "            else\n",
    "                results[j,i] = values[i][j]\n",
    "            end\n",
    "        end\n",
    "    end\n",
    "    df = DataFrame(results, names) \n",
    "    println(df)\n",
    "    println()\n",
    "end"
   ]
  },
  {
   "cell_type": "markdown",
   "metadata": {},
   "source": [
    "### Lista 1"
   ]
  },
  {
   "cell_type": "markdown",
   "metadata": {},
   "source": [
    "**Questão 1** Uma fábrica possui duas usinas $U_1$ e $U_2$. A usina $U_1$ dispõe de 400 unidades de um produto e a $U_2$ de 300 unidades do mesmo produto. A fábrica tem três clientes $E_1 , E_2$ e $E_3$ cujas *demandas* respectivas para o produto são 100 unidades para $E_1 , 200$ unidades para $E_2$ e 300 unidades para $E_3$. Os *custos de transportes* são resumidos na tabela seguinte:\n",
    "\n",
    "\\begin{array}{|c|c|c|c|}\n",
    "\\hline\n",
    " & \\text{E1} & \\text{E2} & \\text{E3} \\\\\n",
    "\\hline\n",
    "\\text{U1} & 1 & 1.5 & 3.5 \\\\\n",
    "\\hline\n",
    "\\text{U2} & 2 & 1 & 2 \\\\\n",
    "\\hline\n",
    "\\end{array}\n",
    "\n",
    "Por exemplo, cada unidade fornecida a $E_1$ a partir de $U_2$ custa 2 reais. Como obter um sistema de distribuição ótimo."
   ]
  },
  {
   "cell_type": "code",
   "execution_count": 3,
   "metadata": {},
   "outputs": [
    {
     "name": "stdout",
     "output_type": "stream",
     "text": [
      "Resolvendo o LPP:\n",
      "Min x[1,1] + 1.5 x[1,2] + 3.5 x[1,3] + 2 x[2,1] + x[2,2] + 2 x[2,3]\n",
      "Subject to\n",
      " x[1,1] + x[2,1] == 100\n",
      " x[1,2] + x[2,2] == 200\n",
      " x[1,3] + x[2,3] == 300\n",
      " x[1,1] + x[1,2] + x[1,3] <= 400\n",
      " x[2,1] + x[2,2] + x[2,3] <= 300\n",
      " x[1,1] >= 0\n",
      " x[2,1] >= 0\n",
      " x[1,2] >= 0\n",
      " x[2,2] >= 0\n",
      " x[1,3] >= 0\n",
      " x[2,3] >= 0\n",
      "\n",
      "Valor Objetivo: 1000.0\n",
      "Valores Encontrados: \n",
      "x[1,1] = 100.0\n",
      "x[2,1] = 0.0\n",
      "x[1,2] = 200.0\n",
      "x[2,2] = 0.0\n",
      "x[1,3] = 0.0\n",
      "x[2,3] = 300.0\n"
     ]
    }
   ],
   "source": [
    "model = Model(GLPK.Optimizer)\n",
    "set_silent(model)\n",
    "\n",
    "i = 2 # Número de Usinas\n",
    "j = 3 # Número de Clientes\n",
    "\n",
    "weights = [1, 1.5, 3.5, 2, 1, 2]\n",
    "\n",
    "@variable(model, x[1:i, 1:j] >= 0)\n",
    "# As demandas respectivas para o produto são:\n",
    "@constraint(model, x[1,1] + x[2,1]   == 100) #E_1\n",
    "@constraint(model, x[1,2] + x[2,2]  == 200) # E_2\n",
    "@constraint(model, x[1,3] + x[2,3]  == 300) # E_3\n",
    "# Restições de Capacidade\n",
    "@constraint(model, x[1,1] + x[1,2] + x[1,3] <= 400) # U_1\n",
    "@constraint(model, x[2,1] + x[2,2] + x[2,3] <= 300) # U_2\n",
    "# Função Objetivo\n",
    "@objective(model, Min, sum(weights[n] * x[div(n-1,3)+1, mod(n-1,3)+1] for n in 1:length(weights)))\n",
    "\n",
    "optimize!(model)\n",
    "print_model(model, x)"
   ]
  },
  {
   "cell_type": "markdown",
   "metadata": {},
   "source": [
    "Com a função..."
   ]
  },
  {
   "cell_type": "code",
   "execution_count": 4,
   "metadata": {},
   "outputs": [
    {
     "name": "stdout",
     "output_type": "stream",
     "text": [
      "Função Objetivo: Min x[1,1] + 1.5 x[1,2] + 3.5 x[1,3] + 2 x[2,1] + x[2,2] + 2 x[2,3]\n",
      "Valor Objetivo (Custo Mínimo): 1000.0\n",
      "Valores Encontradas: \n",
      "x[1,1] = 100.0\n",
      "x[2,1] = 0.0\n",
      "x[1,2] = 200.0\n",
      "x[2,2] = 0.0\n",
      "x[1,3] = 0.0\n",
      "x[2,3] = 300.0\n"
     ]
    }
   ],
   "source": [
    "# Igualdades Ax = b\n",
    "A = [1 0 0 1 0 0;\n",
    "0 1 0 0 1 0;\n",
    "0 0 1 0 0 1]\n",
    "b = [100;200;300]\n",
    "# Desigualdades Cx <= d\n",
    "C = [1 1 1 0 0 0;\n",
    " 0 0 0 1 1 1]\n",
    "d = [400; 300]\n",
    "# Pesos e índices\t\n",
    "weights = [1 1.5 3.5 2 1 2]\n",
    "i = 2\n",
    "j = 3\n",
    "\n",
    "LPP_Cases(\"Min\", (i,j), weights, A, b, C, d)"
   ]
  },
  {
   "cell_type": "markdown",
   "metadata": {},
   "source": [
    "**Questão 2.**\n",
    "Numa usina, produzimos 2 tipos de produtos a partir de 3 fertilizantes. O **produto I**, composto por *1 Kg* de nitratos e *2 Kg* de sal de potássio é vendido por R\\$ 7, e o **produto II**, composto de *1 Kg* de nitratos, *1 Kg* de fosfatos e *3 Kg* de sal de potássio é  por R\\$ 9. *Sobram* no estoque *8 Kg* de nitratos, *4 Kg* de fosfatos e *19 Kg* de sal de potássio.\n",
    "\n",
    "1. Qual quantidade de cada produto a empresa tem que produzir para *maximizar o lucro*? "
   ]
  },
  {
   "cell_type": "code",
   "execution_count": 5,
   "metadata": {},
   "outputs": [
    {
     "name": "stdout",
     "output_type": "stream",
     "text": [
      "Resolvendo o LPP:\n",
      "Max 7 p[1] + 9 p[2]\n",
      "Subject to\n",
      " p[1] + p[2] <= 8\n",
      " 2 p[1] + 3 p[2] <= 4\n",
      " p[2] <= 19\n",
      " p[1] >= 0\n",
      " p[2] >= 0\n",
      "\n",
      "Valor Objetivo: 14.0\n",
      "Valores Encontrados: \n",
      "p[1] = 2.0\n",
      "p[2] = 0.0\n"
     ]
    }
   ],
   "source": [
    "model = Model(HiGHS.Optimizer)\n",
    "set_silent(model)\n",
    "# Quantidades produzidas pela empresa do produto I e II\n",
    "@variable(model, p[1:i] >= 0)\n",
    "# Função Objetivo\n",
    "@objective(model, Max, 7*p[1] + 9*p[2])\n",
    "# Restrição de Recurso\n",
    "@constraint(model, p[1] + p[2] <= 8)\n",
    "@constraint(model, 2*p[1] + 3*p[2] <= 4)\n",
    "@constraint(model, p[2] <= 19)\n",
    "# Otimiza o modelo\n",
    "optimize!(model)\n",
    "print_model(model, p)"
   ]
  },
  {
   "cell_type": "markdown",
   "metadata": {},
   "source": [
    "Com a função..."
   ]
  },
  {
   "cell_type": "code",
   "execution_count": 6,
   "metadata": {},
   "outputs": [
    {
     "name": "stdout",
     "output_type": "stream",
     "text": [
      "Função Objetivo: Max 7 x[1] + 9 x[2]\n",
      "Valor Objetivo (Lucro Máximo): 14.0\n",
      "Valores Encontradas: \n",
      "x[1] = 2.0\n",
      "x[2] = 0.0\n"
     ]
    }
   ],
   "source": [
    "# Igualdades Ax = b\n",
    "A, b = 0, 0\n",
    "# Desigualdades Cx <= d\n",
    "C = [1 1 ;\n",
    "    2 3 ; \n",
    "    0 2]\n",
    "d = [8; 4; 19]\n",
    "# Pesos e índices\t\n",
    "weights = [7 9]\n",
    "i = 2\n",
    "\n",
    "LPP_Cases(\"Max\", i, weights, A, b, C, d)"
   ]
  },
  {
   "cell_type": "markdown",
   "metadata": {},
   "source": [
    "2. Uma cooperativa agricola quer negociar (i.e., *minimizar*) o preço de *1 Kg* de cada componente para comprar a granel todos os fertilizantes do estoque. Como determinar os preços para que a venda a granel seja pelo-menos tão lucrativa como a venda dos produtos?"
   ]
  },
  {
   "cell_type": "code",
   "execution_count": 7,
   "metadata": {},
   "outputs": [
    {
     "name": "stdout",
     "output_type": "stream",
     "text": [
      "Resolvendo o LPP:\n",
      "Min 9 x[1] + 19 x[2] + 4 x[3]\n",
      "Subject to\n",
      " 9 x[1] + 2 x[2] >= 7\n",
      " x[1] + 3 x[2] + x[3] >= 9\n",
      " x[1] >= 0\n",
      " x[2] >= 0\n",
      " x[3] >= 0\n",
      "\n",
      "Valor Objetivo: 39.888888888888886\n",
      "Valores Encontrados: \n",
      "x[1] = 0.7777777777777778\n",
      "x[2] = 0.0\n",
      "x[3] = 8.222222222222221\n"
     ]
    }
   ],
   "source": [
    "model = Model(HiGHS.Optimizer)\n",
    "set_silent(model)\n",
    "# Preços de 1 KG de NO3, KCL, PO4\n",
    "@variable(model, x[1:j] >= 0)\n",
    "# Função Objetivo\n",
    "@objective(model, Min, 9*x[1] + 19*x[2] + 4*x[3])\n",
    "# Restrição de Lucro\n",
    "@constraint(model, 9*x[1] + 2*x[2] >= 7)\n",
    "@constraint(model, x[1] + 3*x[2] + x[3] >= 9)\n",
    "# Otimiza o modelo\n",
    "optimize!(model)\n",
    "print_model(model, x)"
   ]
  },
  {
   "cell_type": "markdown",
   "metadata": {},
   "source": [
    "Com a função..."
   ]
  },
  {
   "cell_type": "code",
   "execution_count": 8,
   "metadata": {},
   "outputs": [
    {
     "name": "stdout",
     "output_type": "stream",
     "text": [
      "Função Objetivo: Min 9 x[1] + 19 x[2] + 4 x[3]\n",
      "Valor Objetivo (Custo Mínimo): 39.888888888888886\n",
      "Valores Encontradas: \n",
      "x[1] = 0.7777777777777778\n",
      "x[2] = 0.0\n",
      "x[3] = 8.222222222222221\n"
     ]
    }
   ],
   "source": [
    "# Igualdades Ax = b\n",
    "A, b = 0, 0\n",
    "# Desigualdades Cx >= d é o mesmo que -Cx <= -d\n",
    "C = [9 2 0 ;\n",
    "    1 3 1]\n",
    "d = [7; 9]\n",
    "# Pesos e índices\t\n",
    "weights = [9 19 4]\n",
    "i = 3\n",
    "\n",
    "LPP_Cases(\"Min\", i, weights, A, b, -C, -d)"
   ]
  },
  {
   "cell_type": "markdown",
   "metadata": {},
   "source": [
    "**Questão 3** Um modelo de carro é montado em 3 usinas situadas nas cidades \\(V1\\), \\(V2\\) e \\(V3\\). O motor destes modelos é fornecido por duas outras usinas situadas nas cidades \\(U1\\) e \\(U2\\). As usinas de montagem precisam de pelo menos 5, 4 e 3 motores, respectivamente. Cada usina pode fornecer no máximo 6 motores. A direção da empresa quer minimizar o custo de transporte dos motores entre os dois sítios de fábrica e os três sítios de montagem. Os custos unitários (por motor transportado) para todos os itinerários possíveis são:\n",
    "\n",
    "\n",
    "\\begin{array}{|c|c|c|c|}\n",
    "\\hline\n",
    " & \\text{V1} & \\text{V2} & \\text{V3} \\\\\n",
    "\\hline\n",
    "\\text{U1} & 38 & 27 & 48 \\\\\n",
    "\\hline\n",
    "\\text{U2} & 37 & 58 & 45 \\\\\n",
    "\\hline\n",
    "\\end{array}\n",
    "\n",
    "Como minimizar o custo total de transporte respeitando a oferta e a demanda?"
   ]
  },
  {
   "cell_type": "code",
   "execution_count": 9,
   "metadata": {},
   "outputs": [
    {
     "name": "stdout",
     "output_type": "stream",
     "text": [
      "Resolvendo o LPP:\n",
      "Min 38 x[1,1] + 27 x[1,2] + 48 x[1,3] + 37 x[2,1] + 58 x[2,2] + 45 x[2,3]\n",
      "Subject to\n",
      " x[1,1] + x[2,1] >= 5\n",
      " x[1,2] + x[2,2] >= 4\n",
      " x[1,3] + x[2,3] >= 3\n",
      " x[1,1] + x[1,2] + x[1,3] <= 6\n",
      " x[2,1] + x[2,2] + x[2,3] <= 6\n",
      " x[1,1] >= 0\n",
      " x[2,1] >= 0\n",
      " x[1,2] >= 0\n",
      " x[2,2] >= 0\n",
      " x[1,3] >= 0\n",
      " x[2,3] >= 0\n",
      "\n",
      "Valor Objetivo: 430.0\n",
      "Valores Encontrados: \n",
      "x[1,1] = 2.0\n",
      "x[2,1] = 3.0\n",
      "x[1,2] = 4.0\n",
      "x[2,2] = 0.0\n",
      "x[1,3] = 0.0\n",
      "x[2,3] = 3.0\n"
     ]
    }
   ],
   "source": [
    "modelo = Model(GLPK.Optimizer)\n",
    "# Define os valores de oferta e demanda\n",
    "oferta, demanda = [6, 6], [5, 4, 3]\n",
    "# Define os custos de transporte\n",
    "custos = [38 27 48;\n",
    "          37 58 45]\n",
    "\n",
    "# Define as variáveis de decisão\n",
    "@variable(modelo, x[1:2, 1:3] >= 0)\n",
    "# Define as restrições de oferta\n",
    "for i in 1:2\n",
    "    @constraint(modelo, sum(x[i, j] for j in 1:3) <= oferta[i])\n",
    "end\n",
    "# Define as restrições de demanda\n",
    "for j in 1:3\n",
    "    @constraint(modelo, sum(x[i, j] for i in 1:2) >= demanda[j])\n",
    "end\n",
    "\n",
    "# Define a função objetivo para minimizar o custo total de transporte\n",
    "@objective(modelo, Min, sum(custos[i, j] * x[i, j] for i in 1:2, j in 1:3))\n",
    "# Resolve o problema de otimização\n",
    "optimize!(modelo)\n",
    "# Verifica se o problema é resolvido de forma ótima\n",
    "@assert termination_status(modelo) == MOI.OPTIMAL\n",
    "print_model(modelo, x) # Custo Total de Transporte"
   ]
  },
  {
   "cell_type": "markdown",
   "metadata": {},
   "source": [
    "**Questão 4** Um sapateiro faz 6 sapatos por hora se fizer somente sapatos e 5 cintos por hora se fizer somente cintos. Ele *trabalha 10 horas por dia* e gasta **2 unidades de couro para fabricar 1 unidade de sapato** e **1 unidade de couro para fabricar 1 unidade de cinto**. Sabendo-se que o *total disponível de couro é de 78 unidades por dia* e que o #underline[lucro unitário por sapato é de 5 reais] e o de **cinto é de 4 reais**, pede-se: o modelo do sistema de produção diario do sapateiro, se o objetivo é maximizar seu lucro diario."
   ]
  },
  {
   "cell_type": "code",
   "execution_count": 10,
   "metadata": {},
   "outputs": [],
   "source": []
  },
  {
   "cell_type": "markdown",
   "metadata": {},
   "source": [
    "**Questão 5**\n",
    "Certo fabricante de combustível para avião vende 2 tipos de combustível, A e B. O combustível de tipo A possui $25 %$ de gasolina $1 , 25 %$ de gasolina 2 e $50 %$ de gasolina 3 . 0 combustível B tem $50 %$ de gasolina 2 e $50 %$ de gasolina 3. Há disponível para produção 500 galões de gasolina 1 e 200 galões de cada gasolina 2 e 3. Os lucros pela venda dos combustíveis A e B são, respectivamente, 20 e 30 dólares. Quanto se deve fazer de cada combustível para se obter um lucro máximo? Formule e resolva o problema."
   ]
  },
  {
   "cell_type": "code",
   "execution_count": 11,
   "metadata": {},
   "outputs": [],
   "source": []
  },
  {
   "cell_type": "markdown",
   "metadata": {},
   "source": [
    "**Questão 6** Uma fábrica de petróleo deseja utilizar quatro tipos de petróleos para produzir três tipos de diesel: A, B, e C. \\\n",
    "A respeito dos tipos de petróleo, temos as seguintes informaões:\n",
    "\n",
    "\\begin{array}{|c|c|c|}\n",
    "\\hline\n",
    " \\text{Tipo de Petróleo} & \\text{Quant. max. disp. por dia} & \\text{Custo (reais por baril)} \\\\\n",
    "\\hline\n",
    "1 & 3000 & 3  \\\\\n",
    "\\hline\n",
    "2 & 2000 & 6 \\\\\n",
    "\\hline\n",
    "3 & 4000 & 4  \\\\\n",
    "\\hline \n",
    "4 & 1000 & 5  \\\\\n",
    "\\hline\n",
    "\\end{array}\n",
    "\n",
    "\n",
    "O diesel A **não pode conter mais de** $30 %$ do petróleo do tipo 1 , #underline[nem mais de] $50 %$ do tipo 3 , mas **deve conter no mínimo** $40 %$ do tipo 2 . O preço de venda deste diesel é de 5.5 reais por baril.\n",
    "\n",
    "O diesel B cujo preço de venda é 4.5 reais por baril, #underline[deverá ser composto de pelo menos] $10 %$ do tipo 2 mas **no máximo de** $50 %$ do tipo 1 .\n",
    "\n",
    "O diesel C **não poderá conter mais de** $70 %$ do petróleo do tipo 1 e o seu preço de venda é de 3.5 reais por baril.\n",
    "\n",
    "A fabrica gostaria de saber a quantidade de baris de cada tipo de petróleo que deveria ser utilizada na fabricação de cada um dos tipos de diesel para poder *maximizar seu lucro*."
   ]
  },
  {
   "cell_type": "code",
   "execution_count": 12,
   "metadata": {},
   "outputs": [
    {
     "name": "stdout",
     "output_type": "stream",
     "text": [
      "Função Objetiva: 2.5 Q[1,1] - 0.5 Q[2,1] + 1.5 Q[3,1] + 0.5 Q[4,1] + 1.5 Q[1,2] - 1.5 Q[2,2] + 0.5 Q[3,2] - 0.5 Q[4,2] + 0.5 Q[1,3] - 2.5 Q[2,3] - 0.5 Q[3,3] - 1.5 Q[4,3]\n",
      "Valor Objetivo: 7166.666666666666\n",
      "Valores Encontrados: \n",
      "Q[1,1] = 366.6666666666665\n",
      "Q[2,1] = 1466.6666666666667\n",
      "Q[3,1] = 1833.3333333333335\n",
      "Q[4,1] = 0.0\n",
      "Q[1,2] = 2633.3333333333335\n",
      "Q[2,2] = 533.3333333333334\n",
      "Q[3,2] = 2166.6666666666665\n",
      "Q[4,2] = 0.0\n",
      "Q[1,3] = 0.0\n",
      "Q[2,3] = 0.0\n",
      "Q[3,3] = 0.0\n",
      "Q[4,3] = 0.0\n"
     ]
    }
   ],
   "source": [
    "model = Model(HiGHS.Optimizer)\n",
    "set_silent(model)\n",
    "i, j = 4, 3 # Número de tipos de petróleo e diesel \n",
    "\n",
    "# Quantidade do tipo i por dia pro Diesel j (1 -> A, 2 -> B, 3 -> C)\n",
    "@variable(model, Q[1:i, 1:j] >= 0)\n",
    "\n",
    "# Restrição da quantidade máxima disposta por dia de cada tipo de petróleo\n",
    "@constraint(model, sum(Q[1,n] for n in 1:j) <= 3000)\n",
    "@constraint(model, sum(Q[2,n] for n in 1:j) <= 2000)\n",
    "@constraint(model, sum(Q[3,n] for n in 1:j) <= 4000)\n",
    "@constraint(model, sum(Q[4,n] for n in 1:j) <= 1000)\n",
    "\n",
    "# Restrições de quantidade de cada tipo de petróleo no Diesel A\n",
    "@constraint(model, Q[1,1] <= 0.3 * sum(Q[m,1] for m in 1:i))\n",
    "@constraint(model, Q[3,1] <= 0.5 * sum(Q[m,1] for m in 1:i))\n",
    "@constraint(model, Q[2,1] >= 0.4 * sum(Q[m,1] for m in 1:i))\n",
    "# Restrições de quantidade de cada tipo de petróleo no Diesel B\n",
    "@constraint(model, Q[1,2] <= 0.5 * sum(Q[m,2] for m in 1:i))\n",
    "@constraint(model, Q[2,2] >= 0.1 * sum(Q[m,2] for m in 1:i))\n",
    "# Restrições de quantidade de cada tipo de petróleo no Diesel C\n",
    "@constraint(model, Q[1,3] <= 0.7 * sum(Q[m,3] for m in 1:i))\n",
    "\n",
    "# Função Objetivo\n",
    "@objective(model, Max, 5.5 * sum(Q[m,1] for m in 1:i) + 4.5 * sum(Q[m,2] for m in 1:i) + 3.5 * sum(Q[m,3] for m in 1:i) - 3*(Q[1,1] + Q[1,2] + Q[1,3]) - 6*(Q[2,1] + Q[2,2] + Q[2,3]) - 4*(Q[3,1] + Q[3,2] + Q[3,3]) - 5*(Q[4,1] + Q[4,2] + Q[4,3]))\n",
    "\n",
    "println(\"Função Objetiva: \", objective_function(model))\n",
    "optimize!(model)\n",
    "print_model(model, Q)"
   ]
  },
  {
   "cell_type": "markdown",
   "metadata": {},
   "source": [
    "### Lista 2"
   ]
  },
  {
   "cell_type": "markdown",
   "metadata": {},
   "source": [
    "**1- Gestão da Produção de Eletricidade**\n",
    "\n",
    "As usinas térmicas e hidroelétricas brasileiras podem ser agrupadas em 4 subsistemas intercambiando energia entre eles. Supomos que cada região contém uma usina hidroelétrica (agregação das usinas hidroelétricas deste subsistema) e um número arbitrário de usinas térmicas. Cada usina hidroelétrica funciona com um reservatório. \n",
    "Somente $80 %$ das afluências de uma região dada é armazenado nos reservatórios. O restante é diretamente convertido em eletricidade por usinas ao fil d’agua. O custo de produção da eletricidade com as usinas térmicas é uma função linear da produção enquanto ele é considerado nulo com usinas hidroelétricas. \\\n",
    "Cada usina tem uma capacidade de produção conhecida e os níveis dos reservatórios devem ficar entre determinados valores mínimos e máximos. Cada dia, a demanda dos clientes deve ser atendida, eventualmente comprando energia no mercado spot a um custo unitário mais alto que o maior custo unitario das térmicas.\n",
    "\n",
    "Explique como determinar as produções diárias das usinas térmicas e hidroelétricas para o mês seguinte, de maneira a minimizar o custo e satisfazendo a demanda e as restrições de funcionamento das usinas."
   ]
  },
  {
   "cell_type": "code",
   "execution_count": 13,
   "metadata": {},
   "outputs": [],
   "source": []
  },
  {
   "cell_type": "markdown",
   "metadata": {},
   "source": [
    "**2 - Gestão de Carteiros**\n",
    "\n",
    "Queremos investir $M$ reais em $n$ ativos financeiros. O retorno do ativo $i$ no período de investimento é $r_i$. Escrever um problema de otimização linear que permita determinar a quantidade de dinheiro a investir em cada ativo para maximizar o lucro. Qual é a solução deste problema?"
   ]
  },
  {
   "cell_type": "code",
   "execution_count": 14,
   "metadata": {},
   "outputs": [],
   "source": []
  },
  {
   "cell_type": "markdown",
   "metadata": {},
   "source": [
    "**3 - Planificação da expansão da produção**\n",
    "Consideramos o problema de expansão da capacidade de produção de uma usina produzindo $m$ produtos. Cada uma das $n$ máquinas é flexível e cada produto pode ser produzido por qualquer máquina. A máquina $j$ está agora disponivel para $h_j$ horas de funcionamento por semana e horas adicionais podem ser adquiridas num custo atualizado de $c_j$ por hora. O uso da máquina $j$ é limitado por uma cota superior de $u_j$ horas, por outra parte, uma revisão de $t_j$ horas da máquina $j$ é necessaria para cada hora de funcionamento. O tempo total gasto em revisão não pode ultrapassar $T$ horas. A taxa de produção do produto $i$ na maquina $j$ é $a_(i j)$, com um custo associado de $g_(i j)$ por hora.\n",
    "\n",
    "Cada semana, a empresa deve satisfazer a demanda em cada um dos $m$ produtos. Cada unidade de produto $i$ não vendida acarreta um custo $p_i$. A empresa quer decidir quantas horas adicionais são necessárias para cada máquina com os dados a seguir:"
   ]
  },
  {
   "cell_type": "code",
   "execution_count": 55,
   "metadata": {},
   "outputs": [],
   "source": [
    "n = 4 # Número de máquinas j\n",
    "m = 3 # Número de produtos i\n",
    "T = 100 # Número de horas disponíveis\n",
    "\n",
    "p = vec([400,400,400])\n",
    "c = vec([2.5, 3.75, 5.0, 3.0])\n",
    "t = vec([0.08, 0.04, 0.03, 0.01])\n",
    "h = vec([500,500,500,500])\n",
    "u = vec([2000,2000,3000,3000])\n",
    "\n",
    "a = [0.6 0.6 0.9 0.8;\n",
    "         0.1 0.9 0.6 0.8;\n",
    "         0.05 0.2 0.5 0.8]\n",
    "\n",
    "g = [2.6 3.4 3.4 2.5;\n",
    "         1.5 2.4 2.0 3.6;\n",
    "         4.0 3.8 3.5 3.2]\n",
    "\n",
    "d = vec([1800, 600, 3000]);"
   ]
  },
  {
   "cell_type": "code",
   "execution_count": 96,
   "metadata": {},
   "outputs": [],
   "source": [
    "model = Model(HiGHS.Optimizer)\n",
    "# H_i,j : Horas de funcionamento da máquina j dedicadas à produção do produto i\n",
    "@variable(model, H[1:m, 1:n] >= 0)\n",
    "# e_j : Quantidade de horas empregadas ao custo c_j\n",
    "@variable(model, e[1:n] >= 0)\n",
    "\n",
    "# Definimos x_i como a produção de um produto i: para cada máquina j, temos o produto da taxa de produção a_i,j e o tempo de funcionamento H_i,j\n",
    "@expression(model, x[i=1:m], sum(a[i,j]*H[i,j] for j in 1:n))\n",
    "# Cada máquina j tem um número inicial de horas disponíveis h_j e pode adquirir horas adicionais y_j, mas o total de horas utilizadas (horas iniciais + horas adicionais) não pode exceder u_j\n",
    "for j in 1:n\n",
    "    @constraint(model, h[j] + e[j] <= u[j])\n",
    "end\n",
    "\n",
    "# A soma do tempo de revisão de todas as máquinas não pode exceder T horas. Considerando que cada hora de funcionamento de uma máquina j requer t_j horas de revisão:\n",
    "@constraint(model, sum(t[j]*(e[j] + h[j]) for j in 1:n) <= T)\n",
    "\n",
    "# Definimos s_i como demanda não atendida.\n",
    "@expression(model, s[i=1:m], d[i] - x[i])\n",
    "\n",
    "# A produção de cada produto i por todas as máquinas deve atender ou exceder a demanda especificada\n",
    "for i in 1:m\n",
    "    @constraint(model, x[i] <=  d[i])\n",
    "end\n",
    "\n",
    "# A quantidade de horas extras empregadas ao custo c_j (e_j) somado às horas de funcionamento disponível por semana para a máquina j (h_j) deve ser igual ao total de horas de funcionamento dedicadas à produção do produto i (H_i,j)\n",
    "for j in 1:n\n",
    "    @constraint(model, e[j] + h[j] == sum(H[i,j] for i in 1:m))\n",
    "end\n",
    "\n",
    "# A função objetivo quer minimizar a função de custo total, que é a soma dos custos de produção e revisão\n",
    "@objective(model, Min,\n",
    "    sum(c[j]*e[j] for j in 1:n) +\n",
    "    sum(g[i,j]*H[i,j] for i in 1:m, j in 1:n) +\n",
    "    sum(p[i]*s[i] for i in 1:m)\n",
    ");"
   ]
  },
  {
   "cell_type": "code",
   "execution_count": 97,
   "metadata": {},
   "outputs": [
    {
     "name": "stdout",
     "output_type": "stream",
     "text": [
      "Valor Objetivo (Custo Mínimo): 897281.25\n",
      "Valores de Encontrados:\n",
      "H[1,1] = 500\n",
      "H[1,2] = 0\n",
      "H[1,3] = 500\n",
      "H[1,4] = 1312.5\n",
      "H[2,1] = 0\n",
      "H[2,2] = 500\n",
      "H[2,3] = 0\n",
      "H[2,4] = 0\n",
      "H[3,1] = 0\n",
      "H[3,2] = 0\n",
      "H[3,3] = 0\n",
      "H[3,4] = 1188\n",
      "e[1] = 0.0\n",
      "e[2] = 0.0\n",
      "e[3] = 0.0\n",
      "e[4] = 2000.0\n"
     ]
    }
   ],
   "source": [
    "set_silent(model)\n",
    "optimize!(model)\n",
    "println(\"Valor Objetivo (Custo Mínimo): \", objective_value(model))\n",
    "println(\"Valores de Encontrados:\")\n",
    "print_var(H)\n",
    "print_var(e)"
   ]
  },
  {
   "cell_type": "markdown",
   "metadata": {},
   "source": [
    "É interessante visualizar estes resultados em um DataFrame."
   ]
  },
  {
   "cell_type": "code",
   "execution_count": 106,
   "metadata": {},
   "outputs": [
    {
     "name": "stdout",
     "output_type": "stream",
     "text": [
      "\u001b[1m3×8 DataFrame\u001b[0m\n",
      "\u001b[1m Row \u001b[0m│\u001b[1m Produto i \u001b[0m\u001b[1m Demanda \u001b[0m\u001b[1m Demanda não atendida \u001b[0m\u001b[1m Produção M1 \u001b[0m\u001b[1m Produção M2 \u001b[0m\u001b[1m Produção M3 \u001b[0m\u001b[1m Produção M4 \u001b[0m\u001b[1m Produção Total \u001b[0m\n",
      "     │\u001b[90m Any       \u001b[0m\u001b[90m Any     \u001b[0m\u001b[90m Any                  \u001b[0m\u001b[90m Any         \u001b[0m\u001b[90m Any         \u001b[0m\u001b[90m Any         \u001b[0m\u001b[90m Any         \u001b[0m\u001b[90m Any            \u001b[0m\n",
      "─────┼──────────────────────────────────────────────────────────────────────────────────────────────────────────────\n",
      "   1 │ Produto 1  1800     0                     300          0            450          1050         1800\n",
      "   2 │ Produto 2  600      150                   0            450          0            0            450\n",
      "   3 │ Produto 3  3000     2050                  0            0            0            950          950\n",
      "\n",
      "\u001b[1m4×8 DataFrame\u001b[0m\n",
      "\u001b[1m Row \u001b[0m│\u001b[1m Máquina j \u001b[0m\u001b[1m Custo (cj) \u001b[0m\u001b[1m H. Extras (ej) \u001b[0m\u001b[1m H. Revisão \u001b[0m\u001b[1m H.Totais \u001b[0m\u001b[1m H. Produto 1 \u001b[0m\u001b[1m H. Produto 2 \u001b[0m\u001b[1m H. Produto 3 \u001b[0m\n",
      "     │\u001b[90m Any       \u001b[0m\u001b[90m Any        \u001b[0m\u001b[90m Any            \u001b[0m\u001b[90m Any        \u001b[0m\u001b[90m Any      \u001b[0m\u001b[90m Any          \u001b[0m\u001b[90m Any          \u001b[0m\u001b[90m Any          \u001b[0m\n",
      "─────┼───────────────────────────────────────────────────────────────────────────────────────────────────────\n",
      "   1 │ Máquina 1  2.5         0               40          500       500           0             0\n",
      "   2 │ Máquina 2  3.75        0               20          500       0             500           0\n",
      "   3 │ Máquina 3  5.0         0               15          500       500           0             0\n",
      "   4 │ Máquina 4  3.0         2000            25          2500      1312          0             1188\n",
      "\n"
     ]
    }
   ],
   "source": [
    "build_df([\"Produto i\", \"Demanda\", \"Demanda não atendida\", \"Produção M1\", \"Produção M2\", \"Produção M3\", \"Produção M4\", \"Produção Total\"],\n",
    "        [[\"Produto $i\" for i in 1:m], d, s, [(H[i,1]*a[i,1]) for i in 1:m], [(H[i,2]*a[i,2]) for i in 1:m],\n",
    "         [(H[i,3]*a[i,3]) for i in 1:m], [(H[i,4]*a[i,4]) for i in 1:m], x])\n",
    "\n",
    "build_df([\"Máquina j\", \"Custo (cj)\", \"H. Extras (ej)\", \"H. Revisão\", \"H.Totais\", \"H. Produto 1\", \"H. Produto 2\", \"H. Produto 3\"],\n",
    "        [[\"Máquina $j\" for j in 1:n],c,e,\n",
    "        [(e[j] + h[j])*t[j] for j in 1:n],\n",
    "        [(e[j] + h[j]) for j in 1:n],\n",
    "        H[1,:], H[2,:], H[3,:]])"
   ]
  },
  {
   "cell_type": "markdown",
   "metadata": {},
   "source": [
    "### 4 - Gestão de contratos com opção de cancelamento"
   ]
  },
  {
   "cell_type": "markdown",
   "metadata": {},
   "source": [
    "### 5 - Problema de \"Unit commitment\" "
   ]
  },
  {
   "cell_type": "markdown",
   "metadata": {},
   "source": [
    "### Problema da Mochila"
   ]
  },
  {
   "cell_type": "code",
   "execution_count": 19,
   "metadata": {},
   "outputs": [
    {
     "name": "stdout",
     "output_type": "stream",
     "text": [
      "Max 5 x[1] + 3 x[2] + 2 x[3] + 7 x[4] + 4 x[5]\n",
      "Subject to\n",
      " 2 x[1] + 8 x[2] + 4 x[3] + 2 x[4] + 5 x[5] <= 10\n",
      " x[1] binary\n",
      " x[2] binary\n",
      " x[3] binary\n",
      " x[4] binary\n",
      " x[5] binary\n"
     ]
    }
   ],
   "source": [
    "n = 5; # Número de Itens\n",
    "capacity = 10.0; # Capacidade da Mochila\n",
    "profit = [5.0, 3.0, 2.0, 7.0, 4.0]; # Lucro de cada item\n",
    "weight = [2.0, 8.0, 4.0, 2.0, 5.0]; # Peso de cada item\n",
    "\n",
    "#model = Model(GLPK.Optimizer)\n",
    "model = Model(HiGHS.Optimizer)\n",
    "\n",
    "# Variáveis Binárias\n",
    "@variable(model, x[1:n], Bin)\n",
    "# Restrição de Capacidade\n",
    "@constraint(model, sum(weight[i] * x[i] for i in 1:n) <= capacity)\n",
    "# Função Objetivo\n",
    "@objective(model, Max, sum(profit[i] * x[i] for i in 1:n))\n",
    "print(model) # LPP"
   ]
  },
  {
   "cell_type": "code",
   "execution_count": 20,
   "metadata": {},
   "outputs": [
    {
     "name": "stdout",
     "output_type": "stream",
     "text": [
      "Valor Objetivo (Custo Mínimo): 16.0\n",
      "Itens Escolhidos: [1, 4, 5]"
     ]
    }
   ],
   "source": [
    "set_silent(model)\n",
    "optimize!(model)\n",
    "@assert is_solved_and_feasible(model)\n",
    "#solution_summary(model)\n",
    "println(\"Valor Objetivo (Custo Mínimo): \", objective_value(model))\n",
    "print(\"Itens Escolhidos: \", [i for i in 1:n if value(x[i]) == 1])"
   ]
  },
  {
   "cell_type": "markdown",
   "metadata": {},
   "source": [
    "### Prova A1"
   ]
  },
  {
   "cell_type": "markdown",
   "metadata": {},
   "source": [
    "**Questão 1** Exercício 1. 2 pontos. Uma empresa pode escolher quatro tipos de líquidos: 8000 litros do líquido A ao custo unitario 5,50 \\$, 4250 litros de B ao custo unitario $4,50 \\$, 16000$ litros de C ao custo unitario $7,50 \\$$, e 2000 litros de D ao custo unitario $11,25 \\$$.\n",
    "\n",
    "A empresa pode revender estes líquidos diretamente, sem transforma-los, e vendelos por $6 \\$$ por litro.\n",
    "\n",
    "Ela pode também elaborar as misturas $E, F$ e $G$. As misturas devem apresentar as características dadas na tabela \n",
    "\n",
    "\\begin{array}{|c|c|c|c|c|}\n",
    "\\hline \n",
    "\\text{Mistura} & \\text{Líquido A} & \\text{Líquido B} & \\text{Líquido C} & \\text{Líquido D} \\\\\n",
    "\\hline \n",
    "E & 30 \\% & \\text{Pelo menos } 10 \\% & 40 \\% & \\text{No máximo } 5\\% \\\\\n",
    "\\hline \n",
    "F & \\text{Pelo menos } 25 \\% & \\text{No máximo } 20\\% & 20 \\% & \\text{Pelo menos } 10 \\% \\\\\n",
    "\\hline \n",
    "G & 20 \\% & \\text{Pelo menos } 15 \\% & 40 \\% & \\text{No máximo } 20 \\% \\\\\n",
    "\\hline\n",
    "\\end{array}\n",
    "\n",
    "Table 1: Proporção de cada líquido num litro de mistura\n",
    "As misturas se vendem respectivamente $11 \\$, 15 \\$$ e $14 \\$$ por litro, e o mercado pode comprar todas as misturas produzidas.\n",
    "\n",
    "A empresa é obrigada a produzir pelo menos 400 litros de E, pelo menos 800 litros de F e pelo menos 200 litros de G.\n",
    "\n",
    "Enfim, misturando 2 partes de $\\mathrm{G}$ com uma parte de E, podemos obter um produto $\\mathrm{P}$ vendido $22 \\$$ por litro e cuja demande é suficientemente grande para ser considerada ilimitada.\n",
    "\n",
    "Modelar este problema por um problema de otimização linear dado que a empresa quer maximizar seu lucro."
   ]
  },
  {
   "cell_type": "code",
   "execution_count": 21,
   "metadata": {},
   "outputs": [
    {
     "name": "stdout",
     "output_type": "stream",
     "text": [
      "Valor Objetivo: 304500.0\n",
      "Valores Encontrados: \n",
      "x[1,1] = 120\n",
      "x[1,2] = 200\n",
      "x[1,3] = 2845\n",
      "x[2,1] = 120\n",
      "x[2,2] = 0\n",
      "x[2,3] = 4130\n",
      "x[3,1] = 160\n",
      "x[3,2] = 160\n",
      "x[3,3] = 5690\n",
      "x[4,1] = 0\n",
      "x[4,2] = 440\n",
      "x[4,3] = 1560\n",
      "p = 0.0\n",
      "l[1] = 4835.0\n",
      "l[2] = 0.0\n",
      "l[3] = 9990.0\n",
      "l[4] = 0.0\n"
     ]
    }
   ],
   "source": [
    "model = Model(HiGHS.Optimizer)\n",
    "\n",
    "i, j = 4, 3\n",
    "\n",
    "# l_i: quantidade de líquido i revendido diretamente\n",
    "@variable(model, l[1:i] >= 0)\n",
    "# x_ij: quantidade de líquido i = 1,2,3,4 (A,B,C,D) usado na produção de j = 1,2,3 (E,F,G)\n",
    "@variable(model, x[1:i, 1:j] >= 0)\n",
    "# p: quantidade de líquido P produzido\n",
    "@variable(model, p >= 0)\n",
    "\n",
    "# make sum of x[m,j] <= 8000 as constraint\n",
    "d = [8000, 4250, 16000, 2000]\n",
    "for m in 1:i\n",
    "    @constraint(model, l[m] + sum(x[m,j] for j in 1:j) <= d[m])\n",
    "end\n",
    "\n",
    "# Para produzir E, j=1\n",
    "@constraint(model, x[1,1] == 0.3 * sum(x[m,1] for m in 1:i)) # A \n",
    "@constraint(model, x[2,1] >= 0.1 * sum(x[m,1] for m in 1:i)) # B\n",
    "@constraint(model, x[3,1] == 0.4 * sum(x[m,1] for m in 1:i)) # C\n",
    "@constraint(model, x[4,1] <= 0.05 * sum(x[m,1] for m in 1:i)) # D\n",
    "\n",
    "# Para produzir F, j=2\n",
    "@constraint(model, x[1,2] == 0.25 * sum(x[m,2] for m in 1:i)) # A\n",
    "@constraint(model, x[2,2] <= 0.2 * sum(x[m,2] for m in 1:i)) # B\n",
    "@constraint(model, x[3,2] == 0.2 * sum(x[m,2] for m in 1:i)) # C\n",
    "@constraint(model, x[4,2] >= 0.1 * sum(x[m,2] for m in 1:i)) # D\n",
    "\n",
    "# Para produzir G, j=3\n",
    "@constraint(model, x[1,3] == 0.2 * sum(x[m,3] for m in 1:i)) # A\n",
    "@constraint(model, x[2,3] >= 0.15 * sum(x[m,3] for m in 1:i)) # B\n",
    "@constraint(model, x[3,3] == 0.4 * sum(x[m,3] for m in 1:i)) # C\n",
    "@constraint(model, x[4,3] <= 0.2 * sum(x[m,3] for m in 1:i)) # D\n",
    "\n",
    "# A produção de líquidos E,F,G deve suprir a obrigação da empresa\n",
    "@constraint(model, sum(x[m,1] for m in 1:i) >= 400)\n",
    "@constraint(model, sum(x[m,2] for m in 1:i) >= 800)\n",
    "@constraint(model, sum(x[m,3] for m in 1:i) >= 200)\n",
    "\n",
    "# O líquido P deve satisfazer as proporções especificadas de líquido E e G\n",
    "@constraint(model, p/3 <= sum(x[m,1] for m in 1:i))\n",
    "@constraint(model, 2*p/3 <= sum(x[m,3] for m in 1:i))\n",
    "\n",
    "# Função Objetivo\n",
    "@objective(model, Max, 6*(sum(l[m] for m in 1:i)) + 11*(sum(x[m,1] for m in 1:i) - p/3) + 15*(sum(x[m,2] for m in 1:i)) + 14*(sum(x[m,3] for m in 1:i) - 2*p/3)) + 22*p - 5.5*(l[1] + sum(x[1,n] for n in 1:j)) - 3.5*(l[2] + sum(x[2,j] for j in 1:j)) - 7.5*(l[3] + sum(x[3,j] for j in 1:j)) - 11.5*(l[4] + sum(x[4,j] for j in 1:j));\n",
    "\n",
    "set_silent(model)\n",
    "optimize!(model)\n",
    "@assert is_solved_and_feasible(model)\n",
    "print_model(model, [x, p, l])"
   ]
  },
  {
   "cell_type": "code",
   "execution_count": 22,
   "metadata": {},
   "outputs": [
    {
     "name": "stdout",
     "output_type": "stream",
     "text": [
      "\u001b[1m4×5 DataFrame\u001b[0m\n",
      "\u001b[1m Row \u001b[0m│\u001b[1m Líquido i \u001b[0m\u001b[1m Revendido Diretamente \u001b[0m\u001b[1m Quant. Produção E \u001b[0m\u001b[1m Quant. Produção F \u001b[0m\u001b[1m Quant. Produção G \u001b[0m\n",
      "     │\u001b[90m Any       \u001b[0m\u001b[90m Any                   \u001b[0m\u001b[90m Any               \u001b[0m\u001b[90m Any               \u001b[0m\u001b[90m Any               \u001b[0m\n",
      "─────┼───────────────────────────────────────────────────────────────────────────────────────────\n",
      "   1 │ Líquido A  4835                   120                200                2845\n",
      "   2 │ Líquido B  0                      120                0                  4130\n",
      "   3 │ Líquido C  9990                   160                160                5690\n",
      "   4 │ Líquido D  0                      0                  440                1560\n",
      "\n",
      "Quantidade de Líquido P produzido: 0"
     ]
    }
   ],
   "source": [
    "build_df([\"Líquido i\", \"Revendido Diretamente\", \"Quant. Produção E\", \"Quant. Produção F\", \"Quant. Produção G\"],\n",
    "        [[\"Líquido $i\" for i in [\"A\",\"B\",\"C\",\"D\"]], l, x[:,1], x[:,2], x[:,3]])\n",
    "\n",
    "print(\"Quantidade de Líquido P produzido: \", Int(value(p)))"
   ]
  },
  {
   "cell_type": "markdown",
   "metadata": {},
   "source": [
    "**Questão 2** Exercício 2. 1.75 pontos. A companhia energética Dark necessita realizar o planejamento energético para um novo prédio. A energia necessária é classificada em 3 categorias: (a) iluminação; (b) aquecimento ambiente; (c) aquecimento água. As necessidades mensais de cada categorias são:\n",
    "\\begin{array}{|c|c|}\n",
    "\\hline \\text{Iluminação} & 20 \\mathrm{MW} \\\\\n",
    "\\hline \\text{Aquecimento ambiente} & 10 \\mathrm{MW} \\\\\n",
    "\\hline \\text{Aquecimento água} & 30 \\mathrm{MW} \\\\\n",
    "\\hline\n",
    "\\end{array}\n",
    "3 fontes de energia podem ser instaladas para suprir a energia necessária: (a) eletricidade; (b) painéis solares; (c) gás natural. O suprimento máximo mensal de energia de cada fonte é:\n",
    "\\begin{array}{|c|c|}\n",
    "\\hline \n",
    "\\text{Eletricidade} & 50 \\mathrm{MW} \\\\\n",
    "\\hline\n",
    "\\text{Painéis solares} & 50 \\mathrm{MW} \\\\\n",
    "\\hline \n",
    "\\text{Gás natural} & 20 \\mathrm{MW} \\\\\n",
    "\\hline\n",
    "\\end{array}\n",
    "\n",
    "A iluminação só pode ser suprida pela energia \"eletricidade\", a um custo de $R \\$ 50$ por MW. As demais categorias (\"aquecimento ambiente\" e \"aquecimento água\") podem ser supridas por qualquer fonte. Os custos unitários de suprimento para estas categorias (em $\\mathrm{R} \\$ / \\mathrm{MW}$ ) são os seguintes:\n",
    "\\begin{array}{|c|c|c|c|}\n",
    "\\hline & \\text{Eletricidade} & \\text{Gás natural} & \\text{Painéis solares} \\\\\n",
    "\\hline \\text{Aquecimento ambiente} & 90 & 60 & 30 \\\\\n",
    "\\hline \\text{Aquecimento água} & 80 & 50 & 40 \\\\\n",
    "\\hline\n",
    "\\end{array}\n",
    "\n",
    "O objetivo é minimizar o custo total de energia mensal do prédio. Escrever um programa linear para modelar este problema."
   ]
  },
  {
   "cell_type": "code",
   "execution_count": 23,
   "metadata": {},
   "outputs": [
    {
     "data": {
      "text/latex": [
       "$ 50 x_{1,1} + 90 x_{1,2} + 80 x_{1,3} + 30 x_{2,2} + 40 x_{2,3} + 60 x_{3,2} + 50 x_{3,3} $"
      ],
      "text/plain": [
       "50 x[1,1] + 90 x[1,2] + 80 x[1,3] + 30 x[2,2] + 40 x[2,3] + 60 x[3,2] + 50 x[3,3]"
      ]
     },
     "metadata": {},
     "output_type": "display_data"
    }
   ],
   "source": [
    "model = Model(HiGHS.Optimizer)\n",
    "\n",
    "i, j = 3, 3\n",
    "weights = [50, 90, 80, 0, 30, 40, 0, 60, 50]\n",
    "# Quantidade de energia de i -> j, onde i=(1,2,3) são eletricidade, painéis solares e gás natural, e \n",
    "# j=(1,2,3) são iluminação, aquecimento ambiente, aquecimento água, respectivamente. \n",
    "@variable(model, x[1:i, 1:j] >= 0)\n",
    "# As demandas respectivas para cada categoria devem ser atendidas\n",
    "@constraint(model, x[1,1] == 20) # Iluminação\n",
    "@constraint(model, x[1,2] + x[2,2] + x[3,2] == 10) # Aquecimento Ambiente\n",
    "@constraint(model, x[1,3] + x[2,3] + x[3,3]  == 30) # Aquecimento Água\n",
    "# Restrições de Capacidade\n",
    "@constraint(model, x[1,1] + x[1,2] + x[1,3]  <= 50) # Eletricidade\n",
    "@constraint(model, x[2,2] + x[2,3]  <= 50) # Painéis Solares\n",
    "@constraint(model, x[3,2] + x[3,3]  <= 20) # Gás Natural\n",
    "\n",
    "# Função Objetivo\n",
    "@objective(model, Min, sum(weights[n] * x[div(n-1,3)+1, mod(n-1,3)+1] for n in 1:9))"
   ]
  },
  {
   "cell_type": "code",
   "execution_count": 24,
   "metadata": {},
   "outputs": [
    {
     "name": "stdout",
     "output_type": "stream",
     "text": [
      "Valor Objetivo: 2500.0\n",
      "Valores Encontrados: \n",
      "x[1,1] = 20.0\n",
      "x[2,1] = 0.0\n",
      "x[3,1] = 0.0\n",
      "x[1,2] = 0.0\n",
      "x[2,2] = 10.0\n",
      "x[3,2] = 0.0\n",
      "x[1,3] = 0.0\n",
      "x[2,3] = 30.0\n",
      "x[3,3] = 0.0\n"
     ]
    }
   ],
   "source": [
    "set_silent(model)\n",
    "optimize!(model)\n",
    "@assert is_solved_and_feasible(model)\n",
    "print_model(model, x)"
   ]
  },
  {
   "cell_type": "markdown",
   "metadata": {},
   "source": [
    "Com a função..."
   ]
  },
  {
   "cell_type": "code",
   "execution_count": 25,
   "metadata": {},
   "outputs": [
    {
     "name": "stdout",
     "output_type": "stream",
     "text": [
      "Função Objetivo: Min 50 x[1,1] + 90 x[1,2] + 80 x[1,3] + 30 x[2,2] + 40 x[2,3] + 60 x[3,2] + 50 x[3,3]\n",
      "Valor Objetivo (Custo Mínimo): 2500.0\n",
      "Valores Encontradas: \n",
      "x[1,1] = 20.0\n",
      "x[2,1] = 0.0\n",
      "x[3,1] = 0.0\n",
      "x[1,2] = 0.0\n",
      "x[2,2] = 10.0\n",
      "x[3,2] = 0.0\n",
      "x[1,3] = 0.0\n",
      "x[2,3] = 30.0\n",
      "x[3,3] = 0.0\n"
     ]
    }
   ],
   "source": [
    "A = [1 0 0 0 0 0 0 0 0;\n",
    "0 1 0 0 1 0 0 1 0;\n",
    "0 0 1 0 0 1 0 0 1]\n",
    "b = [20; 10; 30]\n",
    "\n",
    "C = [1 1 1 0 0 0 0 0 0 ;\n",
    "0 0 0 0 1 1 0 0 0 ;\n",
    "0 0 0 0 0 0 0 1 1]\n",
    "d = [50; 50; 20];\n",
    "\n",
    "LPP_Cases(\"Min\", (i,j), weights, A, b, C, d)"
   ]
  },
  {
   "cell_type": "markdown",
   "metadata": {},
   "source": [
    "Note que iluminação recebe apenas de eletricidade, e aquecimento ambiente/água recebem apenas de painéis solares, o que era esperado, já que são a opção mais barata, logo para minimizar os custos basta comprar a demanda necessária de eletricidade e instalar painéis solares suficientes para suprir a demanda de aquecimento."
   ]
  },
  {
   "cell_type": "code",
   "execution_count": 26,
   "metadata": {},
   "outputs": [
    {
     "name": "stdout",
     "output_type": "stream",
     "text": [
      "\u001b[1m3×4 DataFrame\u001b[0m\n",
      "\u001b[1m Row \u001b[0m│\u001b[1m Quantidade de Energia de  \u001b[0m\u001b[1m Eletricidade \u001b[0m\u001b[1m Painéis Solares \u001b[0m\u001b[1m Gás Natural \u001b[0m\n",
      "     │\u001b[90m Any                       \u001b[0m\u001b[90m Any          \u001b[0m\u001b[90m Any             \u001b[0m\u001b[90m Any         \u001b[0m\n",
      "─────┼───────────────────────────────────────────────────────────────────────\n",
      "   1 │ Para Iluminação            20            0                0\n",
      "   2 │ Para Aquecimento Ambiente  0             10               0\n",
      "   3 │ Para Aquecimento Água      0             30               0\n",
      "\n"
     ]
    }
   ],
   "source": [
    "build_df([\"Quantidade de Energia de\", \"Eletricidade\", \"Painéis Solares\", \"Gás Natural\"],\n",
    "        [[\"Para Iluminação\", \"Para Aquecimento Ambiente\", \"Para Aquecimento Água\"], x[1,:], x[2,:], x[3,:]])"
   ]
  }
 ],
 "metadata": {
  "kernelspec": {
   "display_name": "Julia 1.10.0",
   "language": "julia",
   "name": "julia-1.10"
  },
  "language_info": {
   "file_extension": ".jl",
   "mimetype": "application/julia",
   "name": "julia",
   "version": "1.10.0"
  }
 },
 "nbformat": 4,
 "nbformat_minor": 2
}
